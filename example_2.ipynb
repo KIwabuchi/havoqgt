{
 "cells": [
  {
   "cell_type": "code",
   "execution_count": 1,
   "metadata": {},
   "outputs": [],
   "source": [
    "import sys"
   ]
  },
  {
   "cell_type": "code",
   "execution_count": 20,
   "metadata": {},
   "outputs": [],
   "source": [
    "#sys.path.append(\"/g/g90/reza2/.local/lib/python3.6/site-packages/\")\n",
    "#sys.path.append(\"~/anaconda3/pkgs/\")\n",
    "sys.path.insert(1, \"/g/g90/reza2/anaconda3/lib/python3.8/site-packages/\")\n",
    "sys.path.insert(1, \"/usr/tce/packages/python/python-3.8.2/lib/python3.8/site-packages/networkx/\")"
   ]
  },
  {
   "cell_type": "code",
   "execution_count": 21,
   "metadata": {},
   "outputs": [
    {
     "name": "stdout",
     "output_type": "stream",
     "text": [
      "['/g/g90/reza2', '/usr/tce/packages/python/python-3.8.2/lib/python3.8/site-packages/networkx/', '/g/g90/reza2/anaconda3/lib/python3.8/site-packages/', '/usr/tce/packages/python/python-3.8.2/lib/python3.8/site-packages/networkx/', '/collab/usr/global/tools/jupyter/nb-2020-05-11/venvs/toss-python/lib/python37.zip', '/collab/usr/global/tools/jupyter/nb-2020-05-11/venvs/toss-python/lib/python3.7', '/collab/usr/global/tools/jupyter/nb-2020-05-11/venvs/toss-python/lib/python3.7/lib-dynload', '/usr/tce/packages/python/python-3.7.2/lib/python3.7', '', '/collab/usr/global/tools/jupyter/nb-2020-05-11/venvs/toss-python/lib/python3.7/site-packages', '/usr/tce/packages/python/python-3.7.2/lib/python3.7/site-packages/basemap-1.2.0-py3.7-linux-x86_64.egg', '/usr/tce/packages/python/python-3.7.2/lib/python3.7/site-packages/pyshp-2.1.0-py3.7.egg', '/usr/tce/packages/python/python-3.7.2/lib/python3.7/site-packages/packaging-17.1-py3.7.egg', '/usr/tce/packages/python/python-3.7.2/lib/python3.7/site-packages/sympy-1.3-py3.7.egg', '/collab/usr/global/tools/jupyter/nb-2020-05-11/jupyterhub', '/usr/tce/packages/python/python-3.7.2/lib/python3.7/site-packages', '/usr/tce/packages/python/python-3.7.2/lib/python3.7/site-packages/gist', '/usr/tce/packages/python/python-3.7.2/lib/python3.7/site-packages/IPython/extensions', '/g/g90/reza2/.ipython', '/g/g90/reza2/anaconda3/lib/python3.8/site-packages/']\n"
     ]
    }
   ],
   "source": [
    "print(sys.path)"
   ]
  },
  {
   "cell_type": "code",
   "execution_count": 22,
   "metadata": {},
   "outputs": [],
   "source": [
    "import ipycytoscape"
   ]
  },
  {
   "cell_type": "code",
   "execution_count": 23,
   "metadata": {},
   "outputs": [],
   "source": [
    "import ipywidgets as widgets"
   ]
  },
  {
   "cell_type": "code",
   "execution_count": 24,
   "metadata": {},
   "outputs": [],
   "source": [
    "from ipywidgets import Output"
   ]
  },
  {
   "cell_type": "code",
   "execution_count": 25,
   "metadata": {},
   "outputs": [],
   "source": [
    "import matplotlib.pyplot as plt"
   ]
  },
  {
   "cell_type": "code",
   "execution_count": 26,
   "metadata": {},
   "outputs": [],
   "source": [
    "import networkx as nx"
   ]
  },
  {
   "cell_type": "code",
   "execution_count": 27,
   "metadata": {},
   "outputs": [
    {
     "data": {
      "text/plain": [
       "'/usr/tce/packages/python/python-3.7.2/lib/python3.7/site-packages/networkx/__init__.py'"
      ]
     },
     "execution_count": 27,
     "metadata": {},
     "output_type": "execute_result"
    }
   ],
   "source": [
    "import inspect\n",
    "import os\n",
    "inspect.getfile(os)\n",
    "inspect.getfile(nx)\n",
    "#inspect.getfile(ipycytoscape)"
   ]
  },
  {
   "cell_type": "code",
   "execution_count": 10,
   "metadata": {},
   "outputs": [],
   "source": [
    "from networkx.algorithms import bipartite"
   ]
  },
  {
   "cell_type": "code",
   "execution_count": 11,
   "metadata": {},
   "outputs": [],
   "source": [
    "from IPython.display import display, HTML"
   ]
  },
  {
   "cell_type": "code",
   "execution_count": 12,
   "metadata": {},
   "outputs": [],
   "source": [
    "from pprint import pformat"
   ]
  },
  {
   "cell_type": "code",
   "execution_count": 13,
   "metadata": {},
   "outputs": [],
   "source": [
    "from IPython.display import IFrame"
   ]
  },
  {
   "cell_type": "code",
   "execution_count": 14,
   "metadata": {},
   "outputs": [],
   "source": [
    "#out = Output()"
   ]
  },
  {
   "cell_type": "code",
   "execution_count": 15,
   "metadata": {},
   "outputs": [],
   "source": [
    "data = {\n",
    "        'nodes': [\n",
    "            { 'data': {\n",
    "                'id': '1',\n",
    "                'label': 'top left',\n",
    "                'classes': 'top-left'\n",
    "                }},\n",
    "        {'data': {'id': '2', 'label': 'top center', 'classes': 'top-center' }},\n",
    "        {'data': {'id': '3', 'label': 'top right', 'classes': 'top-right' }},\n",
    "\n",
    "        {'data': {'id': '4', 'label': 'center left', 'classes': 'center-left' }},\n",
    "        {'data': {'id': '5', 'label': 'center center', 'classes': 'center-center' }},\n",
    "        {'data': {'id': '6', 'label': 'center right', 'classes': 'center-right' }},\n",
    "\n",
    "        {'data': {'id': '7', 'label': 'bottom left', 'classes': 'bottom-left' }},\n",
    "        {'data': {'id': '8', 'label': 'bottom center', 'classes': 'bottom-center' }},\n",
    "        {'data': {'id': '9', 'label': 'bottom right', 'classes': 'bottom-right' }},\n",
    "\n",
    "        {'data': {'id': '10', 'label': 'multiline manual\\nfoo\\nbar\\nbaz', 'classes': 'multiline-manual' }},\n",
    "        {'data': {'id': '11', 'label': 'multiline auto foo bar baz', 'classes': 'multiline-auto' }},\n",
    "        {'data': {'id': '12', 'label': 'outline', 'classes': 'outline' }},\n",
    "        ]\n",
    "    }"
   ]
  },
  {
   "cell_type": "code",
   "execution_count": 16,
   "metadata": {},
   "outputs": [],
   "source": [
    "cytoscapeobj = ipycytoscape.CytoscapeWidget()\n",
    "cytoscapeobj.graph.add_graph_from_json(data)"
   ]
  },
  {
   "cell_type": "code",
   "execution_count": 17,
   "metadata": {},
   "outputs": [],
   "source": [
    "cytoscapeobj.set_style([                        {\n",
    "                        'selector': 'node[classes]',\n",
    "                             'style': {\n",
    "                                  'font-family': 'helvetica',\n",
    "                                  'font-size': '20px',\n",
    "                        }},\n",
    "                        {\n",
    "                        'selector': 'node[classes]',\n",
    "                        'style': {\n",
    "                          'label': 'data(label)'\n",
    "                        }\n",
    "                      },\n",
    "                      {\n",
    "                        'selector': 'node[id = \"1\"]',\n",
    "                        'style': {\n",
    "                            'color': 'red',\n",
    "                            'text-valign': 'top',\n",
    "                            'text-halign': 'left'\n",
    "                        }\n",
    "                      },\n",
    "                      {\n",
    "                        'selector': 'node[id = \"2\"]',\n",
    "                        'style': {\n",
    "                          'color': 'blue',\n",
    "                          'text-valign': 'top',\n",
    "                          'text-halign': 'center'\n",
    "                        }\n",
    "                      },\n",
    "                      {\n",
    "                        'selector': 'node[id = \"3\"]',\n",
    "                        'style': {\n",
    "                          'text-valign': 'top',\n",
    "                          'text-halign': 'right'\n",
    "                        }\n",
    "                      },\n",
    "\n",
    "                      {\n",
    "                        'selector': 'node[id = \"4\"]',\n",
    "                        'style': {\n",
    "                          'text-valign': 'center',\n",
    "                          'text-halign': 'left'\n",
    "                        }\n",
    "                      },\n",
    "\n",
    "                      {\n",
    "                        'selector': 'node[id = \"5\"]',\n",
    "                        'style': {\n",
    "                          'text-valign': 'center',\n",
    "                          'text-halign': 'center'\n",
    "                        }\n",
    "                      },\n",
    "\n",
    "                      {\n",
    "                        'selector': 'node[id = \"6\"]',\n",
    "                        'style': {\n",
    "                          'text-valign': 'center',\n",
    "                          'text-halign': 'right'\n",
    "                        }\n",
    "                      },\n",
    "\n",
    "                      {\n",
    "                        'selector': 'node[id = \"7\"]',\n",
    "                        'style': {\n",
    "                          'text-valign': 'bottom',\n",
    "                          'text-halign': 'left'\n",
    "                        }\n",
    "                      },\n",
    "\n",
    "                      {\n",
    "                        'selector': 'node[id = \"8\"]',\n",
    "                        'style': {\n",
    "                          'text-valign': 'bottom',\n",
    "                          'text-halign': 'center'\n",
    "                        }\n",
    "                      },\n",
    "\n",
    "                      {\n",
    "                        'selector': 'node[id = \"9\"]',\n",
    "                        'style': {\n",
    "                          'text-valign': 'bottom',\n",
    "                          'text-halign': 'right'\n",
    "                        }\n",
    "                      },\n",
    "\n",
    "                      {\n",
    "                        'selector': 'node[id = \"10\"]',\n",
    "                        'style': {\n",
    "                          'text-wrap': 'wrap'\n",
    "                        }\n",
    "                      },\n",
    "\n",
    "                      {\n",
    "                        'selector': 'node[id = \"11\"]',\n",
    "                        'style': {\n",
    "                          'text-wrap': 'wrap',\n",
    "                          'text-max-width': 80\n",
    "                        }\n",
    "                      },\n",
    "\n",
    "                      {\n",
    "                        'selector': 'node[id = \"12\"]',\n",
    "                        'style': {\n",
    "                          'edge-text-rotation': 'autorotate'\n",
    "                        }\n",
    "                      }])"
   ]
  },
  {
   "cell_type": "code",
   "execution_count": 18,
   "metadata": {},
   "outputs": [
    {
     "data": {
      "application/vnd.jupyter.widget-view+json": {
       "model_id": "017334faee52494f9d199cdf6c5d2103",
       "version_major": 2,
       "version_minor": 0
      },
      "text/plain": [
       "CytoscapeWidget(cytoscape_layout={'name': 'grid'}, cytoscape_style=[{'selector': 'node[classes]', 'style': {'f…"
      ]
     },
     "metadata": {},
     "output_type": "display_data"
    }
   ],
   "source": [
    "cytoscapeobj.set_layout(name='grid')\n",
    "display(cytoscapeobj)"
   ]
  },
  {
   "cell_type": "code",
   "execution_count": 21,
   "metadata": {},
   "outputs": [
    {
     "name": "stdout",
     "output_type": "stream",
     "text": [
      "#Vertics : 34\n",
      "#Edges : 77\n"
     ]
    }
   ],
   "source": [
    "edgelist_filepath = \"/p/lustre2/reza2/small_test_graphs/karate.txt\"\n",
    "graph = nx.read_edgelist(edgelist_filepath, nodetype=int, create_using=nx.DiGraph(directed=True))\n",
    "print(\"#Vertics : \" + str(graph.number_of_nodes()))\n",
    "print(\"#Edges : \" + str(graph.number_of_edges()))\n"
   ]
  },
  {
   "cell_type": "code",
   "execution_count": 22,
   "metadata": {},
   "outputs": [
    {
     "name": "stdout",
     "output_type": "stream",
     "text": [
      "34\n"
     ]
    }
   ],
   "source": [
    "vertex_data_map = dict()\n",
    "\n",
    "for v in graph.nodes() :\n",
    "    vertex_data_map[v] = v\n",
    "    \n",
    "print(len(vertex_data_map))    "
   ]
  },
  {
   "cell_type": "code",
   "execution_count": 23,
   "metadata": {},
   "outputs": [],
   "source": [
    "def path_to_edge_list (path) : \n",
    "    edge_list = []\n",
    "    for i in range(len(path) - 1,) :\n",
    "        edge_list.append((path[i], path[i+1]))\n",
    "    return edge_list     \n",
    "    print(edge_list)    "
   ]
  },
  {
   "cell_type": "code",
   "execution_count": 24,
   "metadata": {},
   "outputs": [],
   "source": [
    "def path_to_cytoscape_graph (path) :\n",
    "    graph_json = {\"nodes\" : [], \"edges\" : []}\n",
    "    #graph_json[\"nodes\"] = [{\"data\":{\"id\" : \"1\", \"label\" : \"A\"}}, {\"data\":{\"id\" : \"2\", \"label\" : \"B\"}}, {\"data\":{\"id\" : \"3\", \"label\" : \"C\"}}]\n",
    "    #graph_json[\"edges\"] = [{\"data\":{\"source\" : \"1\", \"target\": \"2\"}}, {\"data\":{\"source\" : \"2\", \"target\" : \"3\"}}]\n",
    "\n",
    "    for v in path :\n",
    "            #print(v)\n",
    "            v_dict = {\"data\" : {}}\n",
    "            v_dict[\"data\"][\"id\"] = str(v)\n",
    "            v_dict[\"data\"][\"idInt\"] = v\n",
    "            #v_dict[\"data\"][\"label\"] = str(v)\n",
    "            v_dict[\"data\"][\"label\"] = str(vertex_data_map[v])\n",
    "            graph_json[\"nodes\"].append(v_dict)\n",
    "    \n",
    "    edge_list = path_to_edge_list(path)\n",
    "    \n",
    "    for s, t in edge_list :\n",
    "            #print(s, end = \" \")\n",
    "            #print(t)\n",
    "            e_dict = {\"data\" : {}}\n",
    "            #e_dict[\"data\"][\"id\"] = \"\"\n",
    "            e_dict[\"data\"][\"source\"] = str(s)\n",
    "            e_dict[\"data\"][\"target\"] = str(t)\n",
    "            graph_json[\"edges\"].append(e_dict)\n",
    "    \n",
    "    print(graph_json)\n",
    "    return graph_json\n",
    "\n",
    "#path_to_cytoscape_graph (s_t_shortest_path)"
   ]
  },
  {
   "cell_type": "code",
   "execution_count": 25,
   "metadata": {},
   "outputs": [
    {
     "name": "stdout",
     "output_type": "stream",
     "text": [
      "[0, 9, 3]\n",
      "[(0, 9), (9, 3)]\n"
     ]
    }
   ],
   "source": [
    "s_t_shortest_path = nx.shortest_path(graph, source=0, target=3)\n",
    "print(s_t_shortest_path)\n",
    "print(path_to_edge_list (s_t_shortest_path))"
   ]
  },
  {
   "cell_type": "code",
   "execution_count": 19,
   "metadata": {},
   "outputs": [
    {
     "ename": "AttributeError",
     "evalue": "module 'networkx' has no attribute 'all_simple_edge_paths'",
     "output_type": "error",
     "traceback": [
      "\u001b[0;31m---------------------------------------------------------------------------\u001b[0m",
      "\u001b[0;31mAttributeError\u001b[0m                            Traceback (most recent call last)",
      "\u001b[0;32m<ipython-input-19-3743d263c59e>\u001b[0m in \u001b[0;36m<module>\u001b[0;34m\u001b[0m\n\u001b[0;32m----> 1\u001b[0;31m \u001b[0ms_t_paths\u001b[0m \u001b[0;34m=\u001b[0m \u001b[0mnx\u001b[0m\u001b[0;34m.\u001b[0m\u001b[0mall_simple_edge_paths\u001b[0m\u001b[0;34m(\u001b[0m\u001b[0mgraph\u001b[0m\u001b[0;34m,\u001b[0m \u001b[0msource\u001b[0m\u001b[0;34m=\u001b[0m\u001b[0;36m0\u001b[0m\u001b[0;34m,\u001b[0m \u001b[0mtarget\u001b[0m\u001b[0;34m=\u001b[0m\u001b[0;36m3\u001b[0m\u001b[0;34m,\u001b[0m \u001b[0mcutoff\u001b[0m\u001b[0;34m=\u001b[0m\u001b[0;36m10\u001b[0m\u001b[0;34m)\u001b[0m\u001b[0;34m\u001b[0m\u001b[0;34m\u001b[0m\u001b[0m\n\u001b[0m\u001b[1;32m      2\u001b[0m \u001b[0mlist\u001b[0m\u001b[0;34m(\u001b[0m\u001b[0ms_t_paths\u001b[0m\u001b[0;34m)\u001b[0m\u001b[0;34m\u001b[0m\u001b[0;34m\u001b[0m\u001b[0m\n",
      "\u001b[0;31mAttributeError\u001b[0m: module 'networkx' has no attribute 'all_simple_edge_paths'"
     ]
    }
   ],
   "source": [
    "s_t_paths = nx.all_simple_edge_paths(graph, source=0, target=3, cutoff=10)  \n",
    "list(s_t_paths)"
   ]
  },
  {
   "cell_type": "code",
   "execution_count": 27,
   "metadata": {},
   "outputs": [
    {
     "name": "stdout",
     "output_type": "stream",
     "text": [
      "{'nodes': [{'data': {'id': '0', 'idInt': 0, 'label': '0'}}, {'data': {'id': '9', 'idInt': 9, 'label': '9'}}, {'data': {'id': '3', 'idInt': 3, 'label': '3'}}], 'edges': [{'data': {'source': '0', 'target': '9'}}, {'data': {'source': '9', 'target': '3'}}]}\n"
     ]
    }
   ],
   "source": [
    "cytoscape_graph_json = path_to_cytoscape_graph (s_t_shortest_path)\n",
    "cytoscape_object = ipycytoscape.CytoscapeWidget()\n",
    "cytoscape_object.graph.add_graph_from_json(cytoscape_graph_json)\n",
    "#cytoscape_object.set_layout(name='grid')\n",
    "cytoscape_object.set_layout(name=\"cola\")\n",
    "cytoscape_object.set_tooltip_source(\"label\")"
   ]
  },
  {
   "cell_type": "code",
   "execution_count": 28,
   "metadata": {},
   "outputs": [],
   "source": [
    "def cytoscape_graph_set_style () :\n",
    "    cytoscape_object.set_style([{\n",
    "      \"selector\": \"edge.highlighted\",\n",
    "      \"css\": {\n",
    "        \"line-color\": \"red\"\n",
    "      }\n",
    "    },\n",
    "    {\n",
    "      \"selector\": \"node.highlighted\",\n",
    "      \"css\": {\n",
    "        \"background-color\": \"blue\"\n",
    "      },\n",
    "    }, {\"selector\": \"node\", \"style\": {\"background-color\": \"cyan\", \"content\": \"data(id)\", \"text-valign\": \"center\", \"text-halign\": \"center\"}}, \n",
    "        {\"selector\": \"node[classes]\", \"style\": {\"label\": \"data(label)\"}}])"
   ]
  },
  {
   "cell_type": "code",
   "execution_count": 29,
   "metadata": {},
   "outputs": [
    {
     "data": {
      "application/vnd.jupyter.widget-view+json": {
       "model_id": "1464bc10782547e2be4b4fc1d68a2f63",
       "version_major": 2,
       "version_minor": 0
      },
      "text/plain": [
       "CytoscapeWidget(cytoscape_layout={'name': 'cola'}, cytoscape_style=[{'selector': 'edge.highlighted', 'css': {'…"
      ]
     },
     "metadata": {},
     "output_type": "display_data"
    }
   ],
   "source": [
    "cytoscape_graph_set_style()\n",
    "cytoscape_object\n",
    "#cytoscape_object.graph.edges"
   ]
  },
  {
   "cell_type": "code",
   "execution_count": 6,
   "metadata": {},
   "outputs": [
    {
     "name": "stdout",
     "output_type": "stream",
     "text": [
      "3.7.2\n"
     ]
    }
   ],
   "source": [
    "from platform import python_version\n",
    "print(python_version())"
   ]
  },
  {
   "cell_type": "code",
   "execution_count": 7,
   "metadata": {},
   "outputs": [
    {
     "name": "stdout",
     "output_type": "stream",
     "text": [
      "/usr/bin/python\r\n"
     ]
    }
   ],
   "source": [
    "!which python"
   ]
  },
  {
   "cell_type": "code",
   "execution_count": 8,
   "metadata": {},
   "outputs": [
    {
     "name": "stdout",
     "output_type": "stream",
     "text": [
      "Python 2.7.5\r\n"
     ]
    }
   ],
   "source": [
    "!python --version"
   ]
  },
  {
   "cell_type": "code",
   "execution_count": 9,
   "metadata": {},
   "outputs": [
    {
     "data": {
      "text/plain": [
       "'/collab/usr/global/tools/jupyter/nb-2020-05-11/venvs/toss-python/lib/python3.7/os.py'"
      ]
     },
     "execution_count": 9,
     "metadata": {},
     "output_type": "execute_result"
    }
   ],
   "source": [
    "import inspect\n",
    "import os\n",
    "inspect.getfile(os)"
   ]
  },
  {
   "cell_type": "code",
   "execution_count": 37,
   "metadata": {},
   "outputs": [
    {
     "name": "stdout",
     "output_type": "stream",
     "text": [
      "Requirement already satisfied: ipycytoscape in ./.local/lib/python3.6/site-packages\n",
      "Requirement already satisfied: ipywidgets>=7.6.0 in ./.local/lib/python3.6/site-packages (from ipycytoscape)\n",
      "Requirement already satisfied: spectate>=1.0.0 in ./.local/lib/python3.6/site-packages (from ipycytoscape)\n",
      "Requirement already satisfied: networkx in ./.local/lib/python3.6/site-packages (from ipycytoscape)\n",
      "Requirement already satisfied: traitlets>=4.3.1 in ./.local/lib/python3.6/site-packages (from ipywidgets>=7.6.0->ipycytoscape)\n",
      "Requirement already satisfied: jupyterlab-widgets>=1.0.0; python_version >= \"3.6\" in ./.local/lib/python3.6/site-packages (from ipywidgets>=7.6.0->ipycytoscape)\n",
      "Requirement already satisfied: widgetsnbextension~=3.5.0 in ./.local/lib/python3.6/site-packages (from ipywidgets>=7.6.0->ipycytoscape)\n",
      "Requirement already satisfied: nbformat>=4.2.0 in ./.local/lib/python3.6/site-packages (from ipywidgets>=7.6.0->ipycytoscape)\n",
      "Requirement already satisfied: ipykernel>=4.5.1 in ./.local/lib/python3.6/site-packages (from ipywidgets>=7.6.0->ipycytoscape)\n",
      "Requirement already satisfied: ipython>=4.0.0; python_version >= \"3.3\" in ./.local/lib/python3.6/site-packages (from ipywidgets>=7.6.0->ipycytoscape)\n",
      "Requirement already satisfied: decorator<5,>=4.3 in ./.local/lib/python3.6/site-packages (from networkx->ipycytoscape)\n",
      "Requirement already satisfied: ipython-genutils in ./.local/lib/python3.6/site-packages (from traitlets>=4.3.1->ipywidgets>=7.6.0->ipycytoscape)\n",
      "Requirement already satisfied: six in /usr/lib/python3.6/site-packages (from traitlets>=4.3.1->ipywidgets>=7.6.0->ipycytoscape)\n",
      "Requirement already satisfied: notebook>=4.4.1 in ./.local/lib/python3.6/site-packages (from widgetsnbextension~=3.5.0->ipywidgets>=7.6.0->ipycytoscape)\n",
      "Requirement already satisfied: jupyter-core in ./.local/lib/python3.6/site-packages (from nbformat>=4.2.0->ipywidgets>=7.6.0->ipycytoscape)\n",
      "Requirement already satisfied: jsonschema!=2.5.0,>=2.4 in /usr/lib/python3.6/site-packages (from nbformat>=4.2.0->ipywidgets>=7.6.0->ipycytoscape)\n",
      "Requirement already satisfied: jupyter-client in ./.local/lib/python3.6/site-packages (from ipykernel>=4.5.1->ipywidgets>=7.6.0->ipycytoscape)\n",
      "Requirement already satisfied: tornado>=4.2 in ./.local/lib/python3.6/site-packages (from ipykernel>=4.5.1->ipywidgets>=7.6.0->ipycytoscape)\n",
      "Requirement already satisfied: setuptools>=18.5 in /usr/lib/python3.6/site-packages (from ipython>=4.0.0; python_version >= \"3.3\"->ipywidgets>=7.6.0->ipycytoscape)\n",
      "Requirement already satisfied: backcall in ./.local/lib/python3.6/site-packages (from ipython>=4.0.0; python_version >= \"3.3\"->ipywidgets>=7.6.0->ipycytoscape)\n",
      "Requirement already satisfied: pickleshare in ./.local/lib/python3.6/site-packages (from ipython>=4.0.0; python_version >= \"3.3\"->ipywidgets>=7.6.0->ipycytoscape)\n",
      "Requirement already satisfied: prompt-toolkit!=3.0.0,!=3.0.1,<3.1.0,>=2.0.0 in ./.local/lib/python3.6/site-packages (from ipython>=4.0.0; python_version >= \"3.3\"->ipywidgets>=7.6.0->ipycytoscape)\n",
      "Requirement already satisfied: pygments in ./.local/lib/python3.6/site-packages (from ipython>=4.0.0; python_version >= \"3.3\"->ipywidgets>=7.6.0->ipycytoscape)\n",
      "Requirement already satisfied: jedi>=0.10 in ./.local/lib/python3.6/site-packages (from ipython>=4.0.0; python_version >= \"3.3\"->ipywidgets>=7.6.0->ipycytoscape)\n",
      "Requirement already satisfied: pexpect; sys_platform != \"win32\" in ./.local/lib/python3.6/site-packages (from ipython>=4.0.0; python_version >= \"3.3\"->ipywidgets>=7.6.0->ipycytoscape)\n",
      "Requirement already satisfied: argon2-cffi in ./.local/lib/python3.6/site-packages (from notebook>=4.4.1->widgetsnbextension~=3.5.0->ipywidgets>=7.6.0->ipycytoscape)\n",
      "Requirement already satisfied: prometheus-client in ./.local/lib/python3.6/site-packages (from notebook>=4.4.1->widgetsnbextension~=3.5.0->ipywidgets>=7.6.0->ipycytoscape)\n",
      "Requirement already satisfied: Send2Trash>=1.5.0 in ./.local/lib/python3.6/site-packages (from notebook>=4.4.1->widgetsnbextension~=3.5.0->ipywidgets>=7.6.0->ipycytoscape)\n",
      "Requirement already satisfied: jinja2 in /usr/lib/python3.6/site-packages (from notebook>=4.4.1->widgetsnbextension~=3.5.0->ipywidgets>=7.6.0->ipycytoscape)\n",
      "Requirement already satisfied: nbconvert in ./.local/lib/python3.6/site-packages (from notebook>=4.4.1->widgetsnbextension~=3.5.0->ipywidgets>=7.6.0->ipycytoscape)\n",
      "Requirement already satisfied: terminado>=0.8.3 in ./.local/lib/python3.6/site-packages (from notebook>=4.4.1->widgetsnbextension~=3.5.0->ipywidgets>=7.6.0->ipycytoscape)\n",
      "Requirement already satisfied: pyzmq>=17 in ./.local/lib/python3.6/site-packages (from notebook>=4.4.1->widgetsnbextension~=3.5.0->ipywidgets>=7.6.0->ipycytoscape)\n",
      "Requirement already satisfied: nest-asyncio>=1.5 in ./.local/lib/python3.6/site-packages (from jupyter-client->ipykernel>=4.5.1->ipywidgets>=7.6.0->ipycytoscape)\n",
      "Requirement already satisfied: python-dateutil>=2.1 in ./.local/lib/python3.6/site-packages (from jupyter-client->ipykernel>=4.5.1->ipywidgets>=7.6.0->ipycytoscape)\n",
      "Requirement already satisfied: wcwidth in ./.local/lib/python3.6/site-packages (from prompt-toolkit!=3.0.0,!=3.0.1,<3.1.0,>=2.0.0->ipython>=4.0.0; python_version >= \"3.3\"->ipywidgets>=7.6.0->ipycytoscape)\n",
      "Requirement already satisfied: parso<0.9.0,>=0.8.0 in ./.local/lib/python3.6/site-packages (from jedi>=0.10->ipython>=4.0.0; python_version >= \"3.3\"->ipywidgets>=7.6.0->ipycytoscape)\n",
      "Requirement already satisfied: ptyprocess>=0.5 in ./.local/lib/python3.6/site-packages (from pexpect; sys_platform != \"win32\"->ipython>=4.0.0; python_version >= \"3.3\"->ipywidgets>=7.6.0->ipycytoscape)\n",
      "Requirement already satisfied: cffi>=1.0.0 in /usr/lib64/python3.6/site-packages (from argon2-cffi->notebook>=4.4.1->widgetsnbextension~=3.5.0->ipywidgets>=7.6.0->ipycytoscape)\n",
      "Requirement already satisfied: MarkupSafe>=0.23 in /usr/lib64/python3.6/site-packages (from jinja2->notebook>=4.4.1->widgetsnbextension~=3.5.0->ipywidgets>=7.6.0->ipycytoscape)\n",
      "Requirement already satisfied: bleach in ./.local/lib/python3.6/site-packages (from nbconvert->notebook>=4.4.1->widgetsnbextension~=3.5.0->ipywidgets>=7.6.0->ipycytoscape)\n",
      "Requirement already satisfied: testpath in ./.local/lib/python3.6/site-packages (from nbconvert->notebook>=4.4.1->widgetsnbextension~=3.5.0->ipywidgets>=7.6.0->ipycytoscape)\n",
      "Requirement already satisfied: jupyterlab-pygments in ./.local/lib/python3.6/site-packages (from nbconvert->notebook>=4.4.1->widgetsnbextension~=3.5.0->ipywidgets>=7.6.0->ipycytoscape)\n",
      "Requirement already satisfied: entrypoints>=0.2.2 in ./.local/lib/python3.6/site-packages (from nbconvert->notebook>=4.4.1->widgetsnbextension~=3.5.0->ipywidgets>=7.6.0->ipycytoscape)\n",
      "Requirement already satisfied: nbclient<0.6.0,>=0.5.0 in ./.local/lib/python3.6/site-packages (from nbconvert->notebook>=4.4.1->widgetsnbextension~=3.5.0->ipywidgets>=7.6.0->ipycytoscape)\n",
      "Requirement already satisfied: defusedxml in ./.local/lib/python3.6/site-packages (from nbconvert->notebook>=4.4.1->widgetsnbextension~=3.5.0->ipywidgets>=7.6.0->ipycytoscape)\n",
      "Requirement already satisfied: mistune<2,>=0.8.1 in ./.local/lib/python3.6/site-packages (from nbconvert->notebook>=4.4.1->widgetsnbextension~=3.5.0->ipywidgets>=7.6.0->ipycytoscape)\n",
      "Requirement already satisfied: pandocfilters>=1.4.1 in ./.local/lib/python3.6/site-packages (from nbconvert->notebook>=4.4.1->widgetsnbextension~=3.5.0->ipywidgets>=7.6.0->ipycytoscape)\n",
      "Requirement already satisfied: pycparser in /usr/lib/python3.6/site-packages (from cffi>=1.0.0->argon2-cffi->notebook>=4.4.1->widgetsnbextension~=3.5.0->ipywidgets>=7.6.0->ipycytoscape)\n",
      "Requirement already satisfied: webencodings in ./.local/lib/python3.6/site-packages (from bleach->nbconvert->notebook>=4.4.1->widgetsnbextension~=3.5.0->ipywidgets>=7.6.0->ipycytoscape)\n",
      "Requirement already satisfied: packaging in ./.local/lib/python3.6/site-packages (from bleach->nbconvert->notebook>=4.4.1->widgetsnbextension~=3.5.0->ipywidgets>=7.6.0->ipycytoscape)\n",
      "Requirement already satisfied: async-generator in ./.local/lib/python3.6/site-packages (from nbclient<0.6.0,>=0.5.0->nbconvert->notebook>=4.4.1->widgetsnbextension~=3.5.0->ipywidgets>=7.6.0->ipycytoscape)\n",
      "Requirement already satisfied: pyparsing>=2.0.2 in ./.local/lib/python3.6/site-packages (from packaging->bleach->nbconvert->notebook>=4.4.1->widgetsnbextension~=3.5.0->ipywidgets>=7.6.0->ipycytoscape)\n"
     ]
    }
   ],
   "source": [
    "!pip3 install ipycytoscape --user"
   ]
  },
  {
   "cell_type": "code",
   "execution_count": 38,
   "metadata": {},
   "outputs": [
    {
     "data": {
      "application/vnd.jupyter.widget-view+json": {
       "model_id": "1464bc10782547e2be4b4fc1d68a2f63",
       "version_major": 2,
       "version_minor": 0
      },
      "text/plain": [
       "CytoscapeWidget(cytoscape_layout={'name': 'cola'}, cytoscape_style=[{'selector': 'edge.highlighted', 'css': {'…"
      ]
     },
     "metadata": {},
     "output_type": "display_data"
    }
   ],
   "source": [
    "cytoscape_object"
   ]
  },
  {
   "cell_type": "code",
   "execution_count": 39,
   "metadata": {},
   "outputs": [
    {
     "name": "stdout",
     "output_type": "stream",
     "text": [
      "/usr/bin/sh: /g/g90/reza2/anaconda3/lib/python3.8/site-packages/pip: Is a directory\r\n"
     ]
    }
   ],
   "source": [
    "!/g/g90/reza2/anaconda3/lib/python3.8/site-packages/pip --version\n"
   ]
  },
  {
   "cell_type": "code",
   "execution_count": 40,
   "metadata": {},
   "outputs": [
    {
     "name": "stdout",
     "output_type": "stream",
     "text": [
      "/usr/tce/packages/python/python-3.7.2/bin/python3: can't open file '/g/g90/reza2/anaconda3/lib/python3.7/site-packages/pip/__main__.py': [Errno 2] No such file or directory\r\n"
     ]
    }
   ],
   "source": [
    "!/usr/tce/bin/python3 /g/g90/reza2/anaconda3/lib/python3.7/site-packages/pip/__main__.py --version"
   ]
  },
  {
   "cell_type": "code",
   "execution_count": 41,
   "metadata": {},
   "outputs": [
    {
     "name": "stdout",
     "output_type": "stream",
     "text": [
      "Python 3.6.8\r\n"
     ]
    }
   ],
   "source": [
    "!python3 --version"
   ]
  },
  {
   "cell_type": "code",
   "execution_count": 2,
   "metadata": {},
   "outputs": [
    {
     "name": "stdout",
     "output_type": "stream",
     "text": [
      "/usr/bin/python\r\n"
     ]
    }
   ],
   "source": [
    "!which python"
   ]
  },
  {
   "cell_type": "code",
   "execution_count": 43,
   "metadata": {},
   "outputs": [
    {
     "name": "stdout",
     "output_type": "stream",
     "text": [
      "/g/g90/reza2\r\n"
     ]
    }
   ],
   "source": [
    "!pwd"
   ]
  },
  {
   "cell_type": "code",
   "execution_count": 44,
   "metadata": {},
   "outputs": [
    {
     "name": "stdout",
     "output_type": "stream",
     "text": [
      "pip 8.1.2 from /usr/lib/python2.7/site-packages (python 2.7)\r\n"
     ]
    }
   ],
   "source": [
    "!pip --version"
   ]
  },
  {
   "cell_type": "code",
   "execution_count": 45,
   "metadata": {},
   "outputs": [
    {
     "name": "stdout",
     "output_type": "stream",
     "text": [
      "Python 3.7.2\r\n"
     ]
    }
   ],
   "source": [
    "!/usr/tce/bin/python3 --version"
   ]
  },
  {
   "cell_type": "code",
   "execution_count": 47,
   "metadata": {},
   "outputs": [
    {
     "name": "stdout",
     "output_type": "stream",
     "text": [
      "Python 3.7.2\r\n"
     ]
    }
   ],
   "source": [
    "!/usr/tce/bin/python3 --version"
   ]
  },
  {
   "cell_type": "code",
   "execution_count": null,
   "metadata": {},
   "outputs": [],
   "source": []
  }
 ],
 "metadata": {
  "kernelspec": {
   "display_name": "Python 3",
   "language": "python",
   "name": "python3"
  },
  "language_info": {
   "codemirror_mode": {
    "name": "ipython",
    "version": 3
   },
   "file_extension": ".py",
   "mimetype": "text/x-python",
   "name": "python",
   "nbconvert_exporter": "python",
   "pygments_lexer": "ipython3",
   "version": "3.7.2"
  }
 },
 "nbformat": 4,
 "nbformat_minor": 4
}
