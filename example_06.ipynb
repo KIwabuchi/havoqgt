{
 "cells": [
  {
   "cell_type": "code",
   "execution_count": 1,
   "metadata": {},
   "outputs": [],
   "source": [
    "import inspect\n",
    "import os\n",
    "import sys\n",
    "from platform import python_version"
   ]
  },
  {
   "cell_type": "code",
   "execution_count": 2,
   "metadata": {},
   "outputs": [
    {
     "name": "stdout",
     "output_type": "stream",
     "text": [
      "3.8.5\n"
     ]
    },
    {
     "data": {
      "text/plain": [
       "'C:\\\\ProgramData\\\\Anaconda3\\\\lib\\\\os.py'"
      ]
     },
     "execution_count": 2,
     "metadata": {},
     "output_type": "execute_result"
    }
   ],
   "source": [
    "print(python_version())\n",
    "inspect.getfile(os)"
   ]
  },
  {
   "cell_type": "code",
   "execution_count": null,
   "metadata": {},
   "outputs": [],
   "source": [
    "# display host information\n",
    "!ls -laht ~\n",
    "!pwd\n",
    "!du -s -h ~\n",
    "#!df -h\n",
    "#!lscpu\n",
    "!free -h\n",
    "!g++-8 --version"
   ]
  },
  {
   "cell_type": "code",
   "execution_count": 3,
   "metadata": {},
   "outputs": [],
   "source": [
    "import json\n",
    "import math\n",
    "\n",
    "from collections import defaultdict\n",
    "from pprint import pformat\n",
    "\n",
    "import matplotlib.pyplot as plt\n",
    "\n",
    "import networkx as nx\n",
    "from networkx.algorithms import bipartite\n",
    "\n",
    "import ipywidgets as widgets\n",
    "from ipywidgets import Output\n",
    "\n",
    "from IPython.display import display, HTML, IFrame\n",
    "\n",
    "import ipycytoscape\n",
    "\n",
    "out = Output()"
   ]
  },
  {
   "cell_type": "code",
   "execution_count": 4,
   "metadata": {},
   "outputs": [],
   "source": [
    "# # # # # #"
   ]
  },
  {
   "cell_type": "code",
   "execution_count": 5,
   "metadata": {},
   "outputs": [],
   "source": [
    "class BasicGraph :\n",
    "    def __init__(self, edge_list_filename = None) :\n",
    "        self.vertices = list()\n",
    "        self.edges = list()\n",
    "        \n",
    "        if edge_list_filename is not None :\n",
    "            self.read_edge_list_from_file(edge_list_filename)\n",
    "        \n",
    "    def add_vertex(self, vertex) :\n",
    "        self.vertices.append(vertex)\n",
    "    \n",
    "    def add_edge(self, source_vertex, targe_vertex) :\n",
    "        self.edges.append((source_vertex, targe_vertex))\n",
    "        \n",
    "    def read_edge_list_from_file(self, filename) :\n",
    "        tmp_vertices = set()\n",
    "        with open (filename, \"r\") as read_file :\n",
    "            for line in read_file :\n",
    "                line = line.strip()\n",
    "                tokens = line.split(\" \")\n",
    "                s = int(tokens[0].strip(' \\t\\n\\r'))\n",
    "                t = int(tokens[1].strip(' \\t\\n\\r'))\n",
    "                self.add_edge(s, t)\n",
    "                tmp_vertices.add(s)\n",
    "                tmp_vertices.add(t)\n",
    "                \n",
    "        self.vertices.clear()\n",
    "        self.vertices.extend(sorted(tmp_vertices))\n",
    "        \n",
    "    def __str__(self) :\n",
    "        return \"Vertices(\" + str(len(self.vertices)) + \"): \" + str(self.vertices) + \"\\n\" + \\\n",
    "    \"Edges(\" + str(len(self.edges)) + \"): \" + str(self.edges)    "
   ]
  },
  {
   "cell_type": "code",
   "execution_count": 6,
   "metadata": {},
   "outputs": [],
   "source": [
    "# Test\n",
    "basic_graph = BasicGraph()\n",
    "\n",
    "basic_graph.add_vertex(0)\n",
    "basic_graph.add_vertex(1)\n",
    "basic_graph.add_vertex(2)\n",
    "\n",
    "basic_graph.add_edge(0, 1)\n",
    "basic_graph.add_edge(0, 2)\n",
    "basic_graph.add_edge(1, 0)\n",
    "basic_graph.add_edge(1, 2)\n",
    "basic_graph.add_edge(2, 0)\n",
    "basic_graph.add_edge(2, 1)\n",
    "\n",
    "#print(basic_graph)"
   ]
  },
  {
   "cell_type": "code",
   "execution_count": 7,
   "metadata": {},
   "outputs": [],
   "source": [
    "# # # # # #"
   ]
  },
  {
   "cell_type": "code",
   "execution_count": 8,
   "metadata": {},
   "outputs": [],
   "source": [
    "# large data files\n",
    "data_file_url_list = [\"https://www.ece.ubc.ca/~treza/data/vertex_data\", \"https://www.ece.ubc.ca/~treza/data/edge_list\", \\\n",
    "                      \"https://www.ece.ubc.ca/~treza/data/vertex_data_json\"]"
   ]
  },
  {
   "cell_type": "code",
   "execution_count": 9,
   "metadata": {},
   "outputs": [
    {
     "name": "stdout",
     "output_type": "stream",
     "text": [
      "https://www.ece.ubc.ca/~treza/data/vertex_data\n",
      "https://www.ece.ubc.ca/~treza/data/edge_list\n",
      "https://www.ece.ubc.ca/~treza/data/vertex_data_json\n"
     ]
    }
   ],
   "source": [
    "# download large data files\n",
    "for file_url in data_file_url_list :\n",
    "    print(file_url)\n",
    "    #!wget --tries=5 --continue {file_url} --directory-prefix ~ # uncomment"
   ]
  },
  {
   "cell_type": "code",
   "execution_count": 10,
   "metadata": {},
   "outputs": [],
   "source": [
    "# input/ouput files\n",
    "edge_list_filename = os.path.expanduser(\"~/edge_list\")\n",
    "vertex_data_filename = os.path.expanduser(\"~/vertex_data\")\n",
    "vertex_data_json_filename = os.path.expanduser(\"~/vertex_data_json\")\n",
    "output_filename = os.path.expanduser(\"~/output_05\")"
   ]
  },
  {
   "cell_type": "code",
   "execution_count": 13,
   "metadata": {},
   "outputs": [],
   "source": [
    "# # # # # #"
   ]
  },
  {
   "cell_type": "code",
   "execution_count": 14,
   "metadata": {},
   "outputs": [
    {
     "name": "stdout",
     "output_type": "stream",
     "text": [
      "2267796\n",
      "22\n"
     ]
    }
   ],
   "source": [
    "# vertex data\n",
    "include_json_string = True\n",
    "\n",
    "vertex_type_map = dict()\n",
    "vertex_data_map = defaultdict(tuple)\n",
    "\n",
    "def parse_json_data_2(json_data, line, include_json_string = False) :\n",
    "    id_int = int(json_data[\"id\"])\n",
    "    label = json_data[\"labels\"][0]\n",
    "    properties_identifier = \"\"\n",
    "    properties_name = \"\"\n",
    "    \n",
    "    if \"properties\" in json_data :\n",
    "        if \"identifier\" in json_data[\"properties\"] :\n",
    "            properties_identifier = json_data[\"properties\"][\"identifier\"]\n",
    "        if \"name\" in json_data[\"properties\"] :\n",
    "            properties_name = json_data[\"properties\"][\"name\"][:15]\n",
    "    \n",
    "    # Test\n",
    "    # to save memory\n",
    "    if include_json_string == False :\n",
    "        line = \"\"\n",
    "        \n",
    "    vertex_data_map[id_int] = (label, properties_identifier, properties_name, line)\n",
    "    \n",
    "    vertex_type_count = vertex_type_map.get(label, 0)\n",
    "    vertex_type_map[label] = vertex_type_count + 1\n",
    "    \n",
    "with open(vertex_data_json_filename, \"r\") as read_file :\n",
    "    line_count = 0;\n",
    "    for line in read_file :\n",
    "        line = line.strip()\n",
    "        try :\n",
    "            json_data = json.loads(line)\n",
    "            parse_json_data_2(json_data, line, include_json_string)\n",
    "        except Exception as e :\n",
    "            print(e)\n",
    "            continue\n",
    "        line_count = line_count + 1\n",
    "    #print(str(line_count))\n",
    "\n",
    "print(len(vertex_data_map))\n",
    "print(len(vertex_type_map))"
   ]
  },
  {
   "cell_type": "code",
   "execution_count": 15,
   "metadata": {},
   "outputs": [],
   "source": [
    "# vertex data\n",
    "def get_vertex_type_count_list(vertex_type_map) :\n",
    "    tuple_list = []\n",
    "    for k, v in vertex_type_map.items() :\n",
    "        tuple_list.append((str(k) + \" (\" + str(v) + \")\", k))\n",
    "    return tuple_list\n",
    "    #print(tuple_list)\n",
    "    \n",
    "#vertex_type_count_list()"
   ]
  },
  {
   "cell_type": "code",
   "execution_count": 16,
   "metadata": {},
   "outputs": [
    {
     "name": "stdout",
     "output_type": "stream",
     "text": [
      "135\n",
      "8109\n"
     ]
    }
   ],
   "source": [
    "# vertex data\n",
    "def vertices_filtered_by_type(vertex_type, begin = 0, end = 25) :\n",
    "    #filtered_veretx_data_map = dict()\n",
    "    filtered_veretx_data_list = []\n",
    "    for k, v in vertex_data_map.items() :\n",
    "        if v[0] != vertex_type :\n",
    "            continue\n",
    "        else :\n",
    "            #filtered_veretx_data_map[k] = v\n",
    "            #filtered_veretx_data_map[(v, k)] = v\n",
    "            \n",
    "            if v[2] != \"\" :\n",
    "                #filtered_veretx_data_map[k] = v[2]\n",
    "                filtered_veretx_data_list.append((str(k) + \" (\" + str(v[2]) + \")\", k))\n",
    "            elif v[1] != \"\" :\n",
    "                #filtered_veretx_data_map[k] = v[1]\n",
    "                filtered_veretx_data_list.append((str(k) + \" (\" + str(v[1]) + \")\", k))\n",
    "            else :\n",
    "                #filtered_veretx_data_map[k] = str(k) #v[0]\n",
    "                filtered_veretx_data_list.append((str(k) + \" (\" + str(v[2]) + \")\", k))\n",
    "                \n",
    "    #return filtered_veretx_data_map\n",
    "    #return filtered_veretx_data_list\n",
    "\n",
    "    if (end > len(filtered_veretx_data_list)) :\n",
    "        end = len(filtered_veretx_data_list)\n",
    "    return filtered_veretx_data_list[begin : end], end, len(filtered_veretx_data_list)\n",
    "\n",
    "#print(len(vertices_filtered_by_type(\"Organism\")))\n",
    "#print(vertices_filtered_by_type(\"Organism\")[0:10])\n",
    "x,y,z = vertices_filtered_by_type(\"Organism\", 15, 150)\n",
    "print(len(x))\n",
    "print(z)"
   ]
  },
  {
   "cell_type": "code",
   "execution_count": 17,
   "metadata": {},
   "outputs": [
    {
     "name": "stdout",
     "output_type": "stream",
     "text": [
      "9\n"
     ]
    }
   ],
   "source": [
    "# search\n",
    "import re\n",
    "\n",
    "def kw_search_filtered_by_veretx_type(vertex_type_set, keyword, result_list) :\n",
    "    for k, v in vertex_data_map.items() :        \n",
    "        if v[0] not in vertex_type_set :\n",
    "            continue\n",
    "        match_found = False\n",
    "        \n",
    "        complete_json_string = v[3]\n",
    "        \n",
    "        match_found = re.search(keyword, complete_json_string, re.IGNORECASE)\n",
    "        \n",
    "        if match_found :\n",
    "            #print(v[3])\n",
    "            if v[2] != \"\" :                \n",
    "                result_list.append((str(k) + \" (\" + str(v[2]) + \")\", k))\n",
    "            elif v[1] != \"\" :                \n",
    "                result_list.append((str(k) + \" (\" + str(v[1]) + \")\", k))\n",
    "            else :                \n",
    "                result_list.append((str(k) + \" (\" + str(v[2]) + \")\", k))               \n",
    "    \n",
    "    return len(result_list)\n",
    "\n",
    "tmp_list = list()\n",
    "#print(kw_search_filtered_by_veretx_type({\"Organism\", \"EC\"}, \"Carbon\", tmp_list))\n",
    "print(kw_search_filtered_by_veretx_type({\"Food\"}, \"apple\", tmp_list))\n",
    "#print(kw_search_filtered_by_veretx_type({\"Organism\"})[0:10])\n",
    "tmp_list.clear()"
   ]
  },
  {
   "cell_type": "code",
   "execution_count": 18,
   "metadata": {},
   "outputs": [],
   "source": [
    "def load_more_from_list_by_range(item_list, begin = 0, end = 25) :\n",
    "    if (end > len(item_list)) :\n",
    "        end = len(item_list)\n",
    "    return item_list[begin : end], end, len(item_list)"
   ]
  },
  {
   "cell_type": "code",
   "execution_count": 19,
   "metadata": {},
   "outputs": [],
   "source": [
    "# # # # # #"
   ]
  },
  {
   "cell_type": "code",
   "execution_count": 20,
   "metadata": {},
   "outputs": [],
   "source": [
    "# input widgets\n",
    "vertex_type_count_list = get_vertex_type_count_list(vertex_type_map)\n",
    "\n",
    "vertex_type_selected_a = set()\n",
    "vertex_type_selected_b = set()\n",
    "\n",
    "vertex_type_a_set = set() # TODO: change name, the set contains vertex IDs\n",
    "vertex_type_b_set = set() # TODO: cange name\n",
    "vertex_type_c_set = set()\n",
    "\n",
    "sub_drdn_btn_pair_map = defaultdict(list)    \n",
    "\n",
    "hbox_vertex_data_a = widgets.HBox([])\n",
    "hbox_vertex_data_b = widgets.HBox([])\n",
    "\n",
    "label_selected_vertices_a = widgets.Label(\"Empty\")\n",
    "label_selected_vertices_b = widgets.Label(\"Empty\")\n",
    "label_selected_vertex_types = widgets.Label(\"Empty\")\n",
    "\n",
    "txar_vertex_info = widgets.Textarea(value=\"\", description=\"Vertex info\", placeholder=\"Empty\", disabled=True, \n",
    "                                    layout=widgets.Layout(width='30%', height='200px', align_content='center'))\n",
    "\n",
    "# search\n",
    "load_more_count = 50\n",
    "\n",
    "search_result_a_list = list()\n",
    "search_result_b_list = list()\n",
    "\n",
    "text_kw_search_a = widgets.Text(value=\"\", placeholder=\"Empty\")\n",
    "text_kw_search_b = widgets.Text(value=\"\", placeholder=\"Empty\")\n",
    "\n",
    "label_kw_search_result_count_a = widgets.Label(\"\")\n",
    "label_kw_search_result_count_b = widgets.Label(\"\")\n",
    "\n",
    "# # # # # #\n",
    "\n",
    "def txar_vertex_info_change(vertex) :\n",
    "    if str(vertex_data_map[int(vertex)][3]) != \"\" :\n",
    "        txar_vertex_info.value = str(vertex_data_map[int(vertex)][3]) # json string\n",
    "    else :\n",
    "        txar_vertex_info.value = str(vertex_data_map[int(vertex)])        \n",
    "    #print(vertex_data_map[int(vertex)])\n",
    "\n",
    "def btn_reset_all_on_click(*args) :\n",
    "    vertex_type_selected_a.clear()\n",
    "    vertex_type_selected_b.clear()\n",
    "    \n",
    "    vertex_type_a_set.clear()\n",
    "    vertex_type_b_set.clear()\n",
    "    vertex_type_c_set.clear()\n",
    "  \n",
    "    hbox_vertex_data_a.children = tuple()\n",
    "    hbox_vertex_data_b.children = tuple()\n",
    "\n",
    "    txar_vertex_info.value = \"Empty\"\n",
    "    \n",
    "    label_selected_vertices_a.value = \"Empty\"\n",
    "    label_selected_vertices_b.value = \"Empty\"\n",
    "    label_selected_vertex_types.value = \"Empty\"\n",
    "    \n",
    "    sub_drdn_btn_pair_map.clear()\n",
    "    \n",
    "    text_kw_search_a.value = \"\"\n",
    "    text_kw_search_b.value = \"\"\n",
    "    \n",
    "    label_kw_search_result_count_a.value = \"\"\n",
    "    label_kw_search_result_count_b.value = \"\"\n",
    "    \n",
    "    search_result_a_list.clear()\n",
    "    search_result_b_list.clear()\n",
    "    \n",
    "def btn_selected_vertices_a_on_click(*args) :\n",
    "    # args[0] is the object itself\n",
    "    vertex_type_a_set.clear()\n",
    "    label_selected_vertices_a.value = \"Empty\"    \n",
    "    txar_vertex_info.value = \"Empty\"\n",
    "\n",
    "def btn_selected_vertices_b_on_click(*args) :\n",
    "    vertex_type_b_set.clear()\n",
    "    label_selected_vertices_b.value = \"Empty\"    \n",
    "    txar_vertex_info.value = \"Empty\"\n",
    "\n",
    "def btn_selected_vertex_types_on_click(*args) :\n",
    "    vertex_type_c_set.clear()\n",
    "    label_selected_vertex_types.value = \"Empty\"    \n",
    "        \n",
    "def on_sub_drdn_value_change_a(change) :\n",
    "    #print(\"a: \" + str(change[\"type\"]))\n",
    "    #print(\"a: \" + str(change[\"new\"]))\n",
    "    #print(\"a: \" + str(len(change[\"new\"])))\n",
    "    \n",
    "    if len(change[\"new\"]) < 1 :\n",
    "        txar_vertex_info.value = \"Empty\"\n",
    "        return\n",
    "    \n",
    "    for i in change[\"new\"] :\n",
    "        vertex_type_a_set.add(i)\n",
    "    #print(vertex_type_a_set)    \n",
    "    label_selected_vertices_a.value = str(sorted(vertex_type_a_set))\n",
    "    txar_vertex_info_change(change[\"new\"][0])\n",
    "    \n",
    "def on_sub_drdn_value_change_b(change) :\n",
    "    #print(\"b: \" + str(change[\"new\"]))\n",
    "    \n",
    "    if len(change[\"new\"]) < 1 :\n",
    "        txar_vertex_info.value = \"Empty\"\n",
    "        return\n",
    "    \n",
    "    for i in change[\"new\"] :\n",
    "        vertex_type_b_set.add(i)\n",
    "    #print(vertex_type_b_set)\n",
    "    label_selected_vertices_b.value = str(sorted(vertex_type_b_set))\n",
    "    txar_vertex_info_change(change[\"new\"][0])\n",
    "\n",
    "def btn_search_result_load_more_on_click(*args) :\n",
    "    btn = args[0]\n",
    "    #print(id(btn))\n",
    "    #print(sub_drdn_btn_pair_map)\n",
    "    \n",
    "    if sub_drdn_btn_pair_map[id(btn)][1] >= sub_drdn_btn_pair_map[id(btn)][2] :\n",
    "        return\n",
    "    \n",
    "    drdn_found = False\n",
    "    \n",
    "    for vbox in hbox_vertex_data_a.children :\n",
    "        for child in vbox.children : \n",
    "            if sub_drdn_btn_pair_map[id(btn)][0] == id(child) :\n",
    "                #print(sub_drdn_btn_pair_map)\n",
    "        \n",
    "                vertex_type = sub_drdn_btn_pair_map[id(btn)][3]\n",
    "                begin = int(sub_drdn_btn_pair_map[id(btn)][1]) # starting point for this batch\n",
    "                end = begin + load_more_count # (begin : end]\n",
    "                \n",
    "                #print(vertex_type)\n",
    "                #print(begin)\n",
    "                #print(str(end - 1)) # (begin : end-1)\n",
    "                #print(len(search_result_a_list))\n",
    "                \n",
    "                sub_drdn_options_list, sub_drdn_options_list_end, sub_drdn_options_list_len = \\\n",
    "                    load_more_from_list_by_range(search_result_a_list, begin, end)\n",
    "                \n",
    "                #print(len(sub_drdn_options_list))\n",
    "                #print(sub_drdn_options_list_end)\n",
    "                #print(sub_drdn_options_list_len)\n",
    "                \n",
    "                child.options = sub_drdn_options_list # replace the previous entries\n",
    "                \n",
    "                sub_drdn_btn_pair_map[id(btn)][1] = sub_drdn_options_list_end # starting point for the next batch                \n",
    "                                \n",
    "                btn.description = \"Load more \" + str(begin + 1) + \"-\" + str(sub_drdn_options_list_end)            \n",
    "             \n",
    "                drdn_found = True\n",
    "                break\n",
    "            if drdn_found :\n",
    "                break\n",
    "                \n",
    "    for vbox in hbox_vertex_data_b.children :\n",
    "        for child in vbox.children : \n",
    "            if sub_drdn_btn_pair_map[id(btn)][0] == id(child) :\n",
    "                        \n",
    "                vertex_type = sub_drdn_btn_pair_map[id(btn)][3]\n",
    "                begin = int(sub_drdn_btn_pair_map[id(btn)][1]) # starting point for this batch\n",
    "                end = begin + load_more_count # (begin : end]\n",
    "                                                \n",
    "                sub_drdn_options_list, sub_drdn_options_list_end, sub_drdn_options_list_len = \\\n",
    "                    load_more_from_list_by_range(search_result_b_list, begin, end)\n",
    "                                                \n",
    "                child.options = sub_drdn_options_list # replace the previous entries\n",
    "                sub_drdn_btn_pair_map[id(btn)][1] = sub_drdn_options_list_end # starting point for the next batch                                \n",
    "                btn.description = \"Load more \" + str(begin + 1) + \"-\" + str(sub_drdn_options_list_end)            \n",
    "             \n",
    "                drdn_found = True\n",
    "                break\n",
    "            if drdn_found :\n",
    "                break\n",
    "\n",
    "def btn_kw_search_a_on_click(*args) :\n",
    "    hbox_vertex_data_a.children = tuple()\n",
    "    label_kw_search_result_count_a.value = \"\"\n",
    "    label_selected_vertices_a.value = \"Empty\"\n",
    "    txar_vertex_info.value = \"Empty\"    \n",
    "    search_result_a_list.clear()\n",
    "    \n",
    "    if text_kw_search_a.value == \"\" :\n",
    "        return\n",
    "    vertex_type = \"dummy\" # TODO: remove\n",
    "    #print(text_kw_search_a.value)    \n",
    "    #print(vertex_type_selected_a)\n",
    "    kw_search_filtered_by_veretx_type(vertex_type_selected_a, text_kw_search_a.value, search_result_a_list)\n",
    "    label_kw_search_result_count_a.value = str(len(search_result_a_list))\n",
    "    #print(len(search_result_a_list))\n",
    "    \n",
    "    sub_drdn_options_list, sub_drdn_options_list_end, sub_drdn_options_list_len = \\\n",
    "        load_more_from_list_by_range(search_result_a_list, 0, load_more_count)\n",
    "    \n",
    "    sub_drdn = widgets.SelectMultiple(options=sub_drdn_options_list, description=\"\")        \n",
    "    sub_drdn.observe(on_sub_drdn_value_change_a, names='value')\n",
    "    \n",
    "    sub_btn = widgets.Button(description=\"Load more 1-\" + str(sub_drdn_options_list_end), tooltip=\"Tooltip\", disabled=False)\n",
    "    sub_btn.on_click(callback=btn_search_result_load_more_on_click)\n",
    "               \n",
    "    vbox_sub_drdn_btn = widgets.VBox([sub_drdn, sub_btn])\n",
    "    \n",
    "    #hbox_vertex_data_a.children = hbox_vertex_data_a.children + (sub_drdn,)\n",
    "    hbox_vertex_data_a.children = hbox_vertex_data_a.children + (vbox_sub_drdn_btn,)\n",
    "    \n",
    "    sub_drdn_btn_pair_map[id(sub_btn)] = [id(sub_drdn), sub_drdn_options_list_end, sub_drdn_options_list_len, vertex_type]\n",
    "\n",
    "def btn_kw_search_b_on_click(*args) :\n",
    "    hbox_vertex_data_b.children = tuple()\n",
    "    label_kw_search_result_count_b.value = \"\"\n",
    "    label_selected_vertices_b.value = \"Empty\"\n",
    "    txar_vertex_info.value = \"Empty\"    \n",
    "    search_result_b_list.clear()\n",
    "    \n",
    "    if text_kw_search_b.value == \"\" :\n",
    "        return\n",
    "    vertex_type = \"dummy\" # TODO: remove\n",
    "    #print(text_kw_search_b.value)    \n",
    "    #print(vertex_type_selected_b)\n",
    "    kw_search_filtered_by_veretx_type(vertex_type_selected_b, text_kw_search_b.value, search_result_b_list)\n",
    "    label_kw_search_result_count_b.value = str(len(search_result_b_list))\n",
    "    #print(len(search_result_b_list))\n",
    "    \n",
    "    sub_drdn_options_list, sub_drdn_options_list_end, sub_drdn_options_list_len = \\\n",
    "        load_more_from_list_by_range(search_result_b_list, 0, load_more_count)\n",
    "    \n",
    "    sub_drdn = widgets.SelectMultiple(options=sub_drdn_options_list, description=\"\")        \n",
    "    sub_drdn.observe(on_sub_drdn_value_change_b, names='value')\n",
    "    \n",
    "    sub_btn = widgets.Button(description=\"Load more 1-\" + str(sub_drdn_options_list_end), tooltip=\"Tooltip\", disabled=False)\n",
    "    sub_btn.on_click(callback=btn_search_result_load_more_on_click)\n",
    "               \n",
    "    vbox_sub_drdn_btn = widgets.VBox([sub_drdn, sub_btn])\n",
    "    \n",
    "    #hbox_vertex_data_b.children = hbox_vertex_data_b.children + (sub_drdn,)\n",
    "    hbox_vertex_data_b.children = hbox_vertex_data_b.children + (vbox_sub_drdn_btn,)\n",
    "    \n",
    "    sub_drdn_btn_pair_map[id(sub_btn)] = [id(sub_drdn), sub_drdn_options_list_end, sub_drdn_options_list_len, vertex_type]\n",
    "    \n",
    "def on_drdn_value_change_a(change) :\n",
    "    #print(change[\"new\"])    \n",
    "    #print(change)\n",
    "    hbox_vertex_data_a.children = tuple()\n",
    "    text_kw_search_a.value = \"\"\n",
    "    label_kw_search_result_count_a.value = \"\"\n",
    "    label_selected_vertices_a.value = \"Empty\"\n",
    "    txar_vertex_info.value = \"Empty\"    \n",
    "    vertex_type_selected_a.clear()\n",
    "    vertex_type_a_set.clear()\n",
    "    \n",
    "    for i in change[\"new\"] :\n",
    "        vertex_type = str(i)        \n",
    "        vertex_type_selected_a.add(vertex_type)              \n",
    "    \n",
    "def on_drdn_value_change_b(change) :\n",
    "    #print(change[\"new\"])    \n",
    "    #print(change)\n",
    "    hbox_vertex_data_b.children = tuple()    \n",
    "    text_kw_search_b.value = \"\"\n",
    "    label_kw_search_result_count_b.value = \"\"\n",
    "    label_selected_vertices_b.value = \"Empty\"\n",
    "    txar_vertex_info.value = \"Empty\"    \n",
    "    vertex_type_selected_b.clear()\n",
    "    vertex_type_b_set.clear()\n",
    "    \n",
    "    for i in change[\"new\"] :\n",
    "        vertex_type = str(i)\n",
    "        vertex_type_selected_b.add(vertex_type)       \n",
    "        \n",
    "def on_drdn_value_change_c(change) :\n",
    "        #print(change[\"new\"])  \n",
    "        for i in change[\"new\"] :\n",
    "            vertex_type_c_set.add(i)\n",
    "        label_selected_vertex_types.value = str(sorted(vertex_type_c_set))\n",
    "\n",
    "# # # # # #\n",
    "        \n",
    "#drdn_vertex_type_a = widgets.SelectMultiple(options=[*vertex_type_map], description=\"Source types\")\n",
    "drdn_vertex_type_a = widgets.SelectMultiple(options=vertex_type_count_list, description=\"Source types\")\n",
    "drdn_vertex_type_a.observe(on_drdn_value_change_a, names='value')\n",
    "\n",
    "#drdn_vertex_type_b = widgets.SelectMultiple(options=[*vertex_type_map], description=\"Target types\")\n",
    "drdn_vertex_type_b = widgets.SelectMultiple(options=vertex_type_count_list, description=\"Target types\")\n",
    "drdn_vertex_type_b.observe(on_drdn_value_change_b, names='value')\n",
    "\n",
    "btn_kw_search_a = widgets.Button(description=\"Search\")\n",
    "btn_kw_search_a.on_click(callback=btn_kw_search_a_on_click)\n",
    "\n",
    "btn_kw_search_b = widgets.Button(description=\"Search\")\n",
    "btn_kw_search_b.on_click(callback=btn_kw_search_b_on_click)\n",
    "\n",
    "btn_selected_vertices_a = widgets.Button(description=\"Reset\", tooltip=\"Tooltip\", disabled=False)\n",
    "btn_selected_vertices_a.on_click(callback=btn_selected_vertices_a_on_click)\n",
    "\n",
    "btn_selected_vertices_b = widgets.Button(description=\"Reset\", tooltip=\"Tooltip\", disabled=False)\n",
    "btn_selected_vertices_b.on_click(callback=btn_selected_vertices_b_on_click)\n",
    "\n",
    "btn_reset_all = widgets.Button(description=\"Reset\", disabled=False)\n",
    "btn_reset_all.on_click(callback=btn_reset_all_on_click)\n",
    "\n",
    "hbox_vertex_type_ab = widgets.HBox([drdn_vertex_type_a, drdn_vertex_type_b, txar_vertex_info, btn_reset_all])\n",
    "\n",
    "# filter by vertex type\n",
    "drdn_vertex_type_c = widgets.SelectMultiple(options=vertex_type_count_list, description=\"Filter by vertex type\")\n",
    "drdn_vertex_type_c.observe(on_drdn_value_change_c, names='value')\n",
    "\n",
    "btn_selected_vertex_types = widgets.Button(description=\"Reset\", disabled=False)\n",
    "btn_selected_vertex_types.on_click(callback=btn_selected_vertex_types_on_click)\n",
    "\n",
    "#print(widgets.Widget.observe.__doc__)"
   ]
  },
  {
   "cell_type": "code",
   "execution_count": 21,
   "metadata": {},
   "outputs": [
    {
     "data": {
      "application/vnd.jupyter.widget-view+json": {
       "model_id": "4d7848c5e31841a6b8b3b07b33b4932b",
       "version_major": 2,
       "version_minor": 0
      },
      "text/plain": [
       "HBox(children=(SelectMultiple(description='Source types', options=(('Compound (1967305)', 'Compound'), ('SideE…"
      ]
     },
     "metadata": {},
     "output_type": "display_data"
    },
    {
     "data": {
      "application/vnd.jupyter.widget-view+json": {
       "model_id": "59533d9a61124bf8b88b274cfe461198",
       "version_major": 2,
       "version_minor": 0
      },
      "text/plain": [
       "Label(value='Source vertices')"
      ]
     },
     "metadata": {},
     "output_type": "display_data"
    },
    {
     "data": {
      "application/vnd.jupyter.widget-view+json": {
       "model_id": "154548678fd54568a83dcac94f8b001a",
       "version_major": 2,
       "version_minor": 0
      },
      "text/plain": [
       "HBox(children=(Button(description='Search', style=ButtonStyle()), Text(value='', placeholder='Empty'), Label(v…"
      ]
     },
     "metadata": {},
     "output_type": "display_data"
    },
    {
     "data": {
      "application/vnd.jupyter.widget-view+json": {
       "model_id": "c01c8aad51bf43dea61a6e2d98b6eac5",
       "version_major": 2,
       "version_minor": 0
      },
      "text/plain": [
       "HBox()"
      ]
     },
     "metadata": {},
     "output_type": "display_data"
    },
    {
     "data": {
      "application/vnd.jupyter.widget-view+json": {
       "model_id": "3505edca6c614b6985f5bcb929741e8f",
       "version_major": 2,
       "version_minor": 0
      },
      "text/plain": [
       "HBox(children=(Button(description='Reset', style=ButtonStyle(), tooltip='Tooltip'), Label(value='Selected sour…"
      ]
     },
     "metadata": {},
     "output_type": "display_data"
    },
    {
     "data": {
      "application/vnd.jupyter.widget-view+json": {
       "model_id": "b3b4f67537474dfa82d86956bab44cfc",
       "version_major": 2,
       "version_minor": 0
      },
      "text/plain": [
       "Label(value='Target vertices')"
      ]
     },
     "metadata": {},
     "output_type": "display_data"
    },
    {
     "data": {
      "application/vnd.jupyter.widget-view+json": {
       "model_id": "4e6fc6fe04de41bf98918b6e221641e0",
       "version_major": 2,
       "version_minor": 0
      },
      "text/plain": [
       "HBox(children=(Button(description='Search', style=ButtonStyle()), Text(value='', placeholder='Empty'), Label(v…"
      ]
     },
     "metadata": {},
     "output_type": "display_data"
    },
    {
     "data": {
      "application/vnd.jupyter.widget-view+json": {
       "model_id": "940322b9f29a486ebe23862429f0e393",
       "version_major": 2,
       "version_minor": 0
      },
      "text/plain": [
       "HBox()"
      ]
     },
     "metadata": {},
     "output_type": "display_data"
    },
    {
     "data": {
      "application/vnd.jupyter.widget-view+json": {
       "model_id": "179732d2fc3a49b4a9b659d74acfe4b2",
       "version_major": 2,
       "version_minor": 0
      },
      "text/plain": [
       "HBox(children=(Button(description='Reset', style=ButtonStyle(), tooltip='Tooltip'), Label(value='Selected targ…"
      ]
     },
     "metadata": {},
     "output_type": "display_data"
    },
    {
     "data": {
      "application/vnd.jupyter.widget-view+json": {
       "model_id": "c3fc86d0b5624a8db5b4f872423c24c3",
       "version_major": 2,
       "version_minor": 0
      },
      "text/plain": [
       "HBox(children=(SelectMultiple(description='Filter by vertex type', options=(('Compound (1967305)', 'Compound')…"
      ]
     },
     "metadata": {},
     "output_type": "display_data"
    }
   ],
   "source": [
    "# display input widgets\n",
    "display(hbox_vertex_type_ab)\n",
    "\n",
    "display(widgets.Label(\"Source vertices\"))\n",
    "display(widgets.HBox([btn_kw_search_a, text_kw_search_a, label_kw_search_result_count_a]))\n",
    "display(hbox_vertex_data_a)\n",
    "\n",
    "display(widgets.HBox([btn_selected_vertices_a, widgets.Label(\"Selected source vertices\"), label_selected_vertices_a]))\n",
    "\n",
    "display(widgets.Label(\"Target vertices\"))\n",
    "display(widgets.HBox([btn_kw_search_b, text_kw_search_b, label_kw_search_result_count_b]))\n",
    "display(hbox_vertex_data_b)\n",
    "display(widgets.HBox([btn_selected_vertices_b, widgets.Label(\"Selected target vertices\"), label_selected_vertices_b]))\n",
    "\n",
    "display(widgets.HBox([drdn_vertex_type_c, btn_selected_vertex_types, widgets.Label(\"Selected vertex types\"),  \n",
    "                      label_selected_vertex_types]))"
   ]
  },
  {
   "cell_type": "code",
   "execution_count": null,
   "metadata": {},
   "outputs": [],
   "source": [
    "# # # # # #"
   ]
  },
  {
   "cell_type": "code",
   "execution_count": null,
   "metadata": {},
   "outputs": [],
   "source": [
    "# input parameters\n",
    "print(vertex_type_a_set)\n",
    "print(vertex_type_b_set)\n",
    "print(vertex_type_c_set)\n",
    "# TODO"
   ]
  },
  {
   "cell_type": "code",
   "execution_count": null,
   "metadata": {},
   "outputs": [],
   "source": [
    "vertex_type_c_map = dict()\n",
    "\n",
    "with open (vertex_data_filename, \"r\") as read_file :\n",
    "    for line in read_file :\n",
    "        if len(vertex_type_c_set) < 1 :\n",
    "            break\n",
    "        line = line.strip()\n",
    "        tokens = line.split(\" \")\n",
    "        vertex = int(tokens[0].strip(' \\t\\n\\r'))\n",
    "        vertex_data_hash = int(tokens[1].strip(' \\t\\n\\r'))\n",
    "        vertex_data_string = str(tokens[2].strip(' \\t\\n\\r'))        \n",
    "        if vertex_data_string in vertex_type_c_map :\n",
    "            continue\n",
    "        if vertex_data_string in vertex_type_c_set :\n",
    "            vertex_type_c_map[vertex_data_string] = vertex_data_hash\n",
    "        if len(vertex_type_c_map) == len(vertex_type_c_set) :\n",
    "            break\n",
    "\n",
    "if len(vertex_type_c_map) != len(vertex_type_c_set) :\n",
    "    print(\"Error: items not found.\")\n",
    "print(vertex_type_c_map)        "
   ]
  },
  {
   "cell_type": "code",
   "execution_count": null,
   "metadata": {},
   "outputs": [],
   "source": []
  },
  {
   "cell_type": "code",
   "execution_count": null,
   "metadata": {},
   "outputs": [],
   "source": [
    "# # # # # #"
   ]
  },
  {
   "cell_type": "code",
   "execution_count": 22,
   "metadata": {},
   "outputs": [],
   "source": [
    "# compute paths\n",
    "#s_t_vertices = [0, 1]\n",
    "#search_depth = 3\n",
    "# command"
   ]
  },
  {
   "cell_type": "code",
   "execution_count": null,
   "metadata": {},
   "outputs": [],
   "source": [
    "# # # # # #"
   ]
  },
  {
   "cell_type": "code",
   "execution_count": null,
   "metadata": {},
   "outputs": [],
   "source": [
    "# create command string\n",
    "command_string_vertex_data_filter = \"\"\n",
    "for k, v in vertex_type_c_map.items() :\n",
    "    command_string_vertex_data_filter = command_string_vertex_data_filter + \" -f \" + str(v)\n",
    "print(command_string_vertex_data_filter)"
   ]
  },
  {
   "cell_type": "code",
   "execution_count": null,
   "metadata": {},
   "outputs": [],
   "source": [
    "# create command string\n",
    "command_string = \"\"\n",
    "for i in vertex_type_a_set :\n",
    "    command_string = command_string + \" -u \" + str(i) + \" \"\n",
    "\n",
    "for i in vertex_type_b_set :\n",
    "    command_string = command_string + \" -v \" + str(i) + \" \"\n",
    "\n",
    "for k, v in vertex_type_c_map.items() :\n",
    "    command_string = command_string + \" -f \" + str(v) + \" \"\n",
    "print(command_string)"
   ]
  },
  {
   "cell_type": "code",
   "execution_count": null,
   "metadata": {},
   "outputs": [],
   "source": []
  },
  {
   "cell_type": "code",
   "execution_count": null,
   "metadata": {},
   "outputs": [],
   "source": [
    "s_t_vertices = [2268378, 2283541]\n",
    "search_depth = 4\n",
    "!./connection_subgraph_undirected ~/edge_list ~/vertex_data ~/tmp -d 4 -u 2268378 -v 2283541 2> ~/output_05"
   ]
  },
  {
   "cell_type": "code",
   "execution_count": null,
   "metadata": {},
   "outputs": [],
   "source": [
    "s_t_vertices = [2268378, 2283541]\n",
    "search_depth = 5\n",
    "!./connection_subgraph_undirected {edge_list_filename} {vertex_data_filename} ~/tmp -d {search_depth} -u {s_t_vertices[0]} -v {s_t_vertices[1]} 2> {output_filename}"
   ]
  },
  {
   "cell_type": "code",
   "execution_count": null,
   "metadata": {},
   "outputs": [],
   "source": [
    "s_t_vertices = [2268378, 2283541]\n",
    "search_depth = 4\n",
    "!./connection_subgraph_undirected ~/edge_list ~/vertex_data ~/tmp -d 4 -u 2268378 -v 2283541 -f 1546094233688003844 -f 13996733750220222916 2> ~/output_05"
   ]
  },
  {
   "cell_type": "code",
   "execution_count": null,
   "metadata": {},
   "outputs": [],
   "source": [
    "s_t_vertices = [2268378, 2283541]\n",
    "search_depth = 6\n",
    "!./connection_subgraph_undirected {edge_list_filename} {vertex_data_filename} ~/tmp -d {search_depth} -u {s_t_vertices[0]} -v {s_t_vertices[1]} {command_string_vertex_data_filter} 2> {output_filename}"
   ]
  },
  {
   "cell_type": "code",
   "execution_count": null,
   "metadata": {},
   "outputs": [],
   "source": [
    "# UI to command string example\n",
    "#s_t_vertices = [2268378, 2283541]\n",
    "search_depth = 6\n",
    "command_string = command_string + \" -d \" + str(search_depth) + \" \" \n",
    "!./connection_subgraph_undirected {edge_list_filename} {vertex_data_filename} ~/tmp {command_string}  2> {output_filename}"
   ]
  },
  {
   "cell_type": "code",
   "execution_count": null,
   "metadata": {},
   "outputs": [],
   "source": [
    "s_t_vertices = [1971037, 1971579] # not found\n",
    "search_depth = 20\n",
    "!./connection_subgraph_undirected {edge_list_filename} {vertex_data_filename} ~/tmp -d {search_depth} -u {s_t_vertices[0]} -v {s_t_vertices[1]} {command_string_vertex_data_filter} 2> {output_filename}"
   ]
  },
  {
   "cell_type": "code",
   "execution_count": null,
   "metadata": {},
   "outputs": [],
   "source": [
    "s_t_vertices = [53684, 1970914] # not found\n",
    "search_depth = 20\n",
    "!./connection_subgraph_undirected ~/edge_list ~/vertex_data ~/tmp -d 4 -u 53684 -v 1970914 -f 1546094233688003844 -f 8121734289560993151 -f 11838663228819696432 -f 13996733750220222916 2> ~/output_05"
   ]
  },
  {
   "cell_type": "code",
   "execution_count": null,
   "metadata": {},
   "outputs": [],
   "source": [
    "# # # # # #"
   ]
  },
  {
   "cell_type": "code",
   "execution_count": 23,
   "metadata": {},
   "outputs": [
    {
     "name": "stdout",
     "output_type": "stream",
     "text": [
      "Vertex count: 3\n",
      "Edge count: 6\n"
     ]
    }
   ],
   "source": [
    "#output_graph = basic_graph\n",
    "output_graph = BasicGraph(output_filename)\n",
    "print(\"Vertex count: \" + str(len(output_graph.vertices)))\n",
    "print(\"Edge count: \" + str(len(output_graph.edges)))"
   ]
  },
  {
   "cell_type": "code",
   "execution_count": null,
   "metadata": {},
   "outputs": [],
   "source": [
    "# cytoscape widgets"
   ]
  },
  {
   "cell_type": "code",
   "execution_count": 24,
   "metadata": {},
   "outputs": [],
   "source": [
    "def basic_graph_to_cytoscape_graph (graph) :\n",
    "    graph_json = {\"nodes\" : [], \"edges\" : []}\n",
    "   \n",
    "    for v in graph.vertices :\n",
    "            #print(v)\n",
    "            v_dict = {\"data\" : {}}\n",
    "            v_dict[\"data\"][\"id\"] = str(v)\n",
    "            v_dict[\"data\"][\"idInt\"] = v\n",
    "            #v_dict[\"data\"][\"label\"] = str(v)\n",
    "            v_dict[\"data\"][\"type\"] = str(vertex_data_map[v][0])\n",
    "            v_dict[\"data\"][\"label\"] = str(vertex_data_map[v][2])\n",
    "            v_dict[\"data\"][\"description\"] = str(vertex_data_map[v][3])\n",
    "            graph_json[\"nodes\"].append(v_dict)\n",
    "        \n",
    "    for s, t in graph.edges :\n",
    "            #print(s, end = \" \")\n",
    "            #print(t)\n",
    "            e_dict = {\"data\" : {}}\n",
    "            #e_dict[\"data\"][\"id\"] = \"\"\n",
    "            e_dict[\"data\"][\"source\"] = str(s)\n",
    "            e_dict[\"data\"][\"target\"] = str(t)\n",
    "            graph_json[\"edges\"].append(e_dict)\n",
    "\n",
    "    #print(graph_json)\n",
    "    return graph_json\n",
    "\n",
    "#basic_graph_edge_list_to_cytoscape_graph (output_graph)"
   ]
  },
  {
   "cell_type": "code",
   "execution_count": 25,
   "metadata": {},
   "outputs": [],
   "source": [
    "node_info_widget = widgets.Textarea(value=\"\", placeholder=\"Information\", disabled=True, \n",
    "                                   layout=widgets.Layout(width='50%', height='200px', align_content='center'))"
   ]
  },
  {
   "cell_type": "code",
   "execution_count": 26,
   "metadata": {},
   "outputs": [],
   "source": [
    "cytoscape_graph_json = basic_graph_to_cytoscape_graph (output_graph)\n",
    "cytoscape_object = ipycytoscape.CytoscapeWidget()\n",
    "cytoscape_object.graph.add_graph_from_json(cytoscape_graph_json)\n",
    "\n",
    "#cytoscape_object.set_layout(name='grid') # broken\n",
    "cytoscape_object.set_layout(name=\"cola\")\n",
    "#cytoscape_object.set_layout(name=\"klay\")\n",
    "#cytoscapeobj.set_layout(nodeSpacing=100)\n",
    "#cytoscapeobj.get_layout()\n",
    "\n",
    "#cytoscape_object.set_tooltip_source(\"label\")\n",
    "cytoscape_object.set_tooltip_source(\"description\")"
   ]
  },
  {
   "cell_type": "code",
   "execution_count": 27,
   "metadata": {},
   "outputs": [],
   "source": [
    "def cytoscape_graph_set_style () :\n",
    "    cytoscape_object.set_style([\n",
    "    {\n",
    "      \"selector\": \"edge.highlighted\",\n",
    "      \"css\": {\n",
    "        \"line-color\": \"red\"\n",
    "      }\n",
    "    },\n",
    "    {\n",
    "      \"selector\": \"node.highlighted\",\n",
    "      \"css\": {\n",
    "        \"background-color\": \"yellow\",\n",
    "        \"border-color\": \"black\",\n",
    "        \"border-width\": \"5px\",\n",
    "        \"border-opacity\": \"0.3\",  \n",
    "      },\n",
    "    },\n",
    "    {\n",
    "      \"selector\": \"node.Anatomy\",\n",
    "      \"css\": {\n",
    "        \"background-color\": \"rgb(179, 222, 105)\"\n",
    "      },\n",
    "    },    \n",
    "    {\n",
    "      \"selector\": \"node.BiologicalProcess\",\n",
    "      \"css\": {\n",
    "        \"background-color\": \"rgb(253, 180, 98)\"\n",
    "      },\n",
    "    },\n",
    "    {\n",
    "      \"selector\": \"node.CellularComponent\",\n",
    "      \"css\": {\n",
    "        \"background-color\": \"rgb(255, 255, 179)\"\n",
    "      },\n",
    "    },        \n",
    "    {\n",
    "      \"selector\": \"node.Compound\",\n",
    "      \"css\": {\n",
    "        \"background-color\": \"rgb(188, 128, 189)\"\n",
    "      },\n",
    "    },\n",
    "    {\n",
    "      \"selector\": \"node.Disease\",\n",
    "      \"css\": {\n",
    "        \"background-color\": \"rgb(251, 128, 114)\"\n",
    "      },\n",
    "    },       \n",
    "    {\n",
    "      \"selector\": \"node.EC\",\n",
    "      \"css\": {\n",
    "        \"background-color\": \"rgb(247, 151, 103)\"\n",
    "      },\n",
    "    },  \n",
    "    {\n",
    "      \"selector\": \"node.Food\",\n",
    "      \"css\": {\n",
    "        \"background-color\": \"rgb(199, 183, 143)\"\n",
    "      },\n",
    "    },      \n",
    "    {\n",
    "      \"selector\": \"node.Gene\",\n",
    "      \"css\": {\n",
    "        \"background-color\": \"rgb(128, 177, 211)\"\n",
    "      },\n",
    "    },\n",
    "    {\n",
    "      \"selector\": \"node.MolecularFunction\",\n",
    "      \"css\": {\n",
    "        \"background-color\": \"rgb(255, 237, 111)\"\n",
    "      },\n",
    "    },    \n",
    "    {\n",
    "      \"selector\": \"node.Organism\",\n",
    "      \"css\": {\n",
    "        \"background-color\": \"rgb(217, 200, 174)\"\n",
    "      },\n",
    "    },    \n",
    "    {\n",
    "      \"selector\": \"node.Pathway\",\n",
    "      \"css\": {\n",
    "        \"background-color\": \"rgb(87, 199, 227)\"\n",
    "      },\n",
    "    },\n",
    "    {\n",
    "      \"selector\": \"node.PharmacologicClass\",\n",
    "      \"css\": {\n",
    "        \"background-color\": \"rgb(190, 186, 218)\"\n",
    "      },\n",
    "    }, \n",
    "    {\n",
    "      \"selector\": \"node.Protein\",\n",
    "      \"css\": {\n",
    "        \"background-color\": \"rgb(141, 211, 199)\"\n",
    "      },\n",
    "    },     \n",
    "    {\n",
    "      \"selector\": \"node.Reaction\",\n",
    "      \"css\": {\n",
    "        \"background-color\": \"rgb(241, 102, 103)\"\n",
    "      },\n",
    "    },\n",
    "    {\n",
    "      \"selector\": \"node.SideEffect\",\n",
    "      \"css\": {\n",
    "        \"background-color\": \"rgb(204, 235, 197)\"\n",
    "      },\n",
    "    },\n",
    "    {\n",
    "      \"selector\": \"node.Symptom\",\n",
    "      \"css\": {\n",
    "        \"background-color\": \"rgb(252, 205, 229)\"\n",
    "      },\n",
    "    },\n",
    "    {\n",
    "      \"selector\": \"node.CellType\",\n",
    "      \"css\": {\n",
    "        \"background-color\": \"green\"\n",
    "      },\n",
    "    },\n",
    "    {\n",
    "      \"selector\": \"node.Nutrient\",\n",
    "      \"css\": {\n",
    "        \"background-color\": \"cyan\"\n",
    "      },\n",
    "    },\n",
    "    {\n",
    "      \"selector\": \"node.MolecularFunction\",\n",
    "      \"css\": {\n",
    "        \"background-color\": \"darkcyan\"\n",
    "      },\n",
    "    },    \n",
    "    {\n",
    "      \"selector\": \"node.SARSCov2\",\n",
    "      \"css\": {\n",
    "        \"background-color\": \"crimson\"\n",
    "      },\n",
    "    },\n",
    "    {\n",
    "      \"selector\": \"node.DatabaseTimestamp\",\n",
    "      \"css\": {\n",
    "        \"background-color\": \"darkgrey\"\n",
    "      },\n",
    "    },\n",
    "    {\n",
    "      \"selector\": \"node.Version\",\n",
    "      \"css\": {\n",
    "        \"background-color\": \"darkgrey\"\n",
    "      },\n",
    "    },    \n",
    "    {\"selector\": \"node\", \"style\": {\"content\": \"data(label)\", \"text-valign\": \"center\", \"text-halign\": \"center\", \"font-size\": \"8px\"}}, \n",
    "        {\"selector\": \"node[classes]\", \"style\": {\"label\": \"data(label)\"}}])\n",
    "    \n",
    "#\"background-color\": \"grey\", \"content\" ...    "
   ]
  },
  {
   "cell_type": "code",
   "execution_count": 28,
   "metadata": {},
   "outputs": [],
   "source": [
    "def set_node_color_by_type (target_node, node_type) :\n",
    "#def highlight_node (target_node) :           \n",
    "    for node in cytoscape_object.graph.nodes:\n",
    "        if int(node.data[\"id\"]) == int(target_node[\"data\"][\"id\"]) :\n",
    "            classes = set(node.classes.split(\" \"))    \n",
    "            classes.add(node_type)\n",
    "            node.classes = \" \".join(classes)\n",
    "            break\n",
    "\n",
    "def set_node_color() :\n",
    "    for node in cytoscape_object.graph.nodes :        \n",
    "        #print(node.data[\"id\"])\n",
    "        #print(node.data[\"type\"])\n",
    "        set_node_color_by_type ({\"data\" : {\"id\": node.data[\"id\"]}}, node.data[\"type\"])\n",
    "    #set_node_color_by_type ({\"data\" : {\"id\": \"2276338\"}}, \"compound\")\n",
    "    #set_node_color_by_type ({\"data\" : {\"id\": \"2293366\"}}, \"reaction\")\n"
   ]
  },
  {
   "cell_type": "code",
   "execution_count": 29,
   "metadata": {},
   "outputs": [],
   "source": [
    "def unhighlight_nodes () :\n",
    "    for node in cytoscape_object.graph.nodes:\n",
    "        classes = set(node.classes.split(\" \"))\n",
    "        if \"highlighted\" in classes :\n",
    "            classes.remove(\"highlighted\")\n",
    "            node.classes = \" \".join(classes)            \n",
    "\n",
    "def unhighlight_edges () :\n",
    "    for edge in cytoscape_object.graph.edges:\n",
    "        classes = set(edge.classes.split(\" \"))\n",
    "        if \"highlighted\" in classes :\n",
    "            classes.remove(\"highlighted\")\n",
    "            edge.classes = \" \".join(classes)                \n",
    "\n",
    "def highlight_node (target_node) :           \n",
    "    for node in cytoscape_object.graph.nodes:\n",
    "        if int(node.data[\"id\"]) == int(target_node[\"data\"][\"id\"]) :\n",
    "            classes = set(node.classes.split(\" \"))    \n",
    "            classes.add(\"highlighted\")\n",
    "            node.classes = \" \".join(classes)\n",
    "            break\n",
    "            \n",
    "def highlight_edges (edge_filter) :\n",
    "    for edge in cytoscape_object.graph.edges:\n",
    "        #print(edge.data)\n",
    "        #print(edge_filter)\n",
    "    \n",
    "        s = int(edge.data[\"source\"]) \n",
    "        t = int(edge.data[\"target\"])             \n",
    "    \n",
    "        if (s, t) in edge_filter :\n",
    "            classes = set(edge.classes.split(\" \"))\n",
    "            classes.add(\"highlighted\")\n",
    "            #classes.remove(\"highlighted\")            \n",
    "            edge.classes = \" \".join(classes)\n",
    "            continue\n",
    "        \n",
    "        #classes = set(edge.classes.split(\" \"))\n",
    "        #classes.add(\"highlighted\")\n",
    "        #edge.classes = \" \".join(classes)\n",
    "    \n",
    "        #print(edge)    "
   ]
  },
  {
   "cell_type": "code",
   "execution_count": 30,
   "metadata": {},
   "outputs": [],
   "source": [
    "def update_node_info_widget(node) :\n",
    "    #node_info_widget.value = node[\"data\"][\"label\"] \n",
    "    vertex = int(node[\"data\"][\"id\"])\n",
    "    #vertex_data = dict(sorted(vertex_data_map[vertex].items()))\n",
    "    if str(vertex_data_map[vertex][3]) != \"\" :\n",
    "        vertex_data = vertex_data_map[vertex][3]\n",
    "    else :\n",
    "        vertex_data = vertex_data_map[vertex]\n",
    "    node_info_widget.value = str(vertex_data)\n",
    "    #output_string = \"\"\n",
    "    #for k, v in vertex_data.items() :\n",
    "    #    output_string = output_string + str(k) + \" : \" + str(v) + \"\\n\"\n",
    "    #node_info_widget.value = output_string"
   ]
  },
  {
   "cell_type": "code",
   "execution_count": 31,
   "metadata": {},
   "outputs": [],
   "source": [
    "selected_vertex = [0] # must be a container or a class object \n",
    "\n",
    "def node_callback_click(node) :\n",
    "    selected_vertex[0] = int(node[\"data\"][\"id\"])         \n",
    "    update_node_info_widget(node)\n",
    "\n",
    "cytoscape_object.on('node', 'click', node_callback_click)"
   ]
  },
  {
   "cell_type": "code",
   "execution_count": 32,
   "metadata": {},
   "outputs": [
    {
     "data": {
      "application/vnd.jupyter.widget-view+json": {
       "model_id": "28b54e81eef84193baea0732d036936f",
       "version_major": 2,
       "version_minor": 0
      },
      "text/plain": [
       "CytoscapeWidget(cytoscape_layout={'name': 'cola'}, cytoscape_style=[{'selector': 'edge.highlighted', 'css': {'…"
      ]
     },
     "metadata": {},
     "output_type": "display_data"
    },
    {
     "data": {
      "application/vnd.jupyter.widget-view+json": {
       "model_id": "4ddbccedf619483886ae247088856191",
       "version_major": 2,
       "version_minor": 0
      },
      "text/plain": [
       "Textarea(value='', disabled=True, layout=Layout(align_content='center', height='200px', width='50%'), placehol…"
      ]
     },
     "metadata": {},
     "output_type": "display_data"
    }
   ],
   "source": [
    "#highlight_node({\"data\" : {\"id\": s_t_vertices[0]}})\n",
    "#highlight_node({\"data\" : {\"id\": s_t_vertices[1]}})\n",
    "set_node_color()\n",
    "for i in range(len(s_t_vertices)) :\n",
    "    highlight_node({\"data\" : {\"id\": s_t_vertices[i]}})\n",
    "cytoscape_graph_set_style()\n",
    "display(cytoscape_object)\n",
    "display(node_info_widget)"
   ]
  },
  {
   "cell_type": "code",
   "execution_count": null,
   "metadata": {},
   "outputs": [],
   "source": []
  }
 ],
 "metadata": {
  "kernelspec": {
   "display_name": "Python 3",
   "language": "python",
   "name": "python3"
  },
  "language_info": {
   "codemirror_mode": {
    "name": "ipython",
    "version": 3
   },
   "file_extension": ".py",
   "mimetype": "text/x-python",
   "name": "python",
   "nbconvert_exporter": "python",
   "pygments_lexer": "ipython3",
   "version": "3.8.5"
  }
 },
 "nbformat": 4,
 "nbformat_minor": 5
}
