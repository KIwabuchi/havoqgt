{
 "cells": [
  {
   "cell_type": "code",
   "execution_count": 13,
   "id": "f7d37256-8dce-48a0-9f1f-671c9b625220",
   "metadata": {},
   "outputs": [],
   "source": [
    "import inspect\n",
    "import os\n",
    "import sys\n",
    "from platform import python_version"
   ]
  },
  {
   "cell_type": "code",
   "execution_count": 14,
   "id": "a555e26e-74c3-4d8c-b9b4-171112b1cf3f",
   "metadata": {},
   "outputs": [
    {
     "name": "stdout",
     "output_type": "stream",
     "text": [
      "3.9.5\n"
     ]
    },
    {
     "data": {
      "text/plain": [
       "'/srv/conda/envs/notebook/lib/python3.9/os.py'"
      ]
     },
     "execution_count": 14,
     "metadata": {},
     "output_type": "execute_result"
    }
   ],
   "source": [
    "print(python_version())\n",
    "inspect.getfile(os)"
   ]
  },
  {
   "cell_type": "code",
   "execution_count": 1,
   "id": "8452e55c-aa35-4798-9058-299ce9b9026a",
   "metadata": {},
   "outputs": [
    {
     "name": "stdout",
     "output_type": "stream",
     "text": [
      "total 2.0M\n",
      "drwxr-xr-x 1 jovyan jovyan 4.0K Jun 27 22:04 .\n",
      "drwxr-xr-x 5 jovyan root   4.0K Jun 27 22:04 .ipython\n",
      "drwxr-xr-x 2 jovyan root   4.0K Jun 27 22:04 .ipynb_checkpoints\n",
      "drwxr-xr-x 1 jovyan jovyan 4.0K Jun 27 22:04 .jupyter\n",
      "drwxr-xr-x 3 jovyan jovyan 4.0K Jun 27 21:58 .yarn\n",
      "drwxr-xr-x 3 jovyan jovyan 4.0K Jun 27 21:57 .npm\n",
      "drwxr-xr-x 1 jovyan jovyan 4.0K Jun 27 21:57 .cache\n",
      "drwxr-xr-x 1 jovyan jovyan 4.0K Jun 27 21:57 .local\n",
      "-rwxr-xr-x 1 jovyan jovyan 1.7M Jun 27 21:57 connection_subgraph_undirected\n",
      "drwxr-xr-x 1 jovyan jovyan 4.0K Jun 27 21:57 .empty\n",
      "drwxrwsr-x 1 jovyan jovyan 4.0K Jun 27 21:56 .conda\n",
      "drwx------ 1 jovyan jovyan 4.0K Jun 27 21:49 .config\n",
      "drwxr-xr-x 1 root   root   4.0K Jun 27 21:49 ..\n",
      "-rw-r--r-- 1 jovyan jovyan   38 Jun 27 21:49 apt.txt\n",
      "-rw-r--r-- 1 jovyan jovyan 128K Jun 27 21:49 connection_subgraph_undirected.cpp\n",
      "-rw-r--r-- 1 jovyan jovyan  275 Jun 27 21:49 environment.yml\n",
      "-rw-r--r-- 1 jovyan jovyan  52K Jun 27 21:49 example_06.ipynb\n",
      "drwxr-xr-x 1 jovyan jovyan 4.0K Jun 27 21:49 .git\n",
      "-rw-r--r-- 1 jovyan jovyan   89 Jun 27 21:49 .gitignore\n",
      "-rw-r--r-- 1 jovyan jovyan  26K Jun 27 21:49 LICENSE\n",
      "-rw-r--r-- 1 jovyan jovyan  519 Jun 27 21:49 Makefile\n",
      "-rw-r--r-- 1 jovyan jovyan 1.2K Jun 27 21:49 NOTICE\n",
      "-rwxr-xr-x 1 jovyan jovyan  206 Jun 27 21:49 postBuild\n",
      "drwxr-xr-x 1 jovyan jovyan 4.0K Jun 27 21:49 query_preprocessor\n",
      "-rw-r--r-- 1 jovyan jovyan 1.2K Jun 27 21:49 README\n",
      "-rw-r--r-- 1 jovyan jovyan  127 Jun 27 21:49 README.md\n",
      "-rw-r--r-- 1 jovyan jovyan  220 Apr  4  2018 .bash_logout\n",
      "-rw-r--r-- 1 jovyan jovyan 3.7K Apr  4  2018 .bashrc\n",
      "-rw-r--r-- 1 jovyan jovyan  807 Apr  4  2018 .profile\n",
      "/home/jovyan\n",
      "484M\t/home/jovyan\n",
      "              total        used        free      shared  buff/cache   available\n",
      "Mem:            35G        1.2G         18G        1.8M         15G         33G\n",
      "Swap:            0B          0B          0B\n",
      "g++-8 (Ubuntu 8.4.0-1ubuntu1~18.04) 8.4.0\n",
      "Copyright (C) 2018 Free Software Foundation, Inc.\n",
      "This is free software; see the source for copying conditions.  There is NO\n",
      "warranty; not even for MERCHANTABILITY or FITNESS FOR A PARTICULAR PURPOSE.\n",
      "\n"
     ]
    }
   ],
   "source": [
    "# display host information\n",
    "!ls -laht ~\n",
    "!pwd\n",
    "!du -s -h ~\n",
    "#!df -h\n",
    "#!lscpu\n",
    "!free -h\n",
    "!g++-8 --version"
   ]
  },
  {
   "cell_type": "code",
   "execution_count": 2,
   "id": "d8e26e26-5e03-4c57-98c8-b0af4854028b",
   "metadata": {},
   "outputs": [],
   "source": [
    "import json\n",
    "import math\n",
    "\n",
    "from collections import defaultdict\n",
    "from pprint import pformat\n",
    "\n",
    "import matplotlib.pyplot as plt\n",
    "\n",
    "import networkx as nx\n",
    "from networkx.algorithms import bipartite\n",
    "\n",
    "import ipywidgets as widgets\n",
    "from ipywidgets import Output\n",
    "\n",
    "from IPython.display import display, HTML, IFrame\n",
    "\n",
    "import ipycytoscape\n",
    "\n",
    "out = Output()"
   ]
  },
  {
   "cell_type": "code",
   "execution_count": 3,
   "id": "bafaf74f-0b73-4bfc-8d8e-e44f8b66ab09",
   "metadata": {},
   "outputs": [],
   "source": [
    "# # # # # #"
   ]
  },
  {
   "cell_type": "code",
   "execution_count": 4,
   "id": "6dae40bb-9db9-4f77-acf5-25c5f2e71132",
   "metadata": {},
   "outputs": [],
   "source": [
    "class BasicGraph :\n",
    "    def __init__(self, edge_list_filename = None) :\n",
    "        self.vertices = list()\n",
    "        self.edges = list()\n",
    "        \n",
    "        if edge_list_filename is not None :\n",
    "            self.read_edge_list_from_file(edge_list_filename)\n",
    "        \n",
    "    def add_vertex(self, vertex) :\n",
    "        self.vertices.append(vertex)\n",
    "    \n",
    "    def add_edge(self, source_vertex, targe_vertex) :\n",
    "        self.edges.append((source_vertex, targe_vertex))\n",
    "        \n",
    "    def read_edge_list_from_file(self, filename) :\n",
    "        tmp_vertices = set()\n",
    "        with open (filename, \"r\") as read_file :\n",
    "            for line in read_file :\n",
    "                line = line.strip()\n",
    "                tokens = line.split(\" \")\n",
    "                s = int(tokens[0].strip(' \\t\\n\\r'))\n",
    "                t = int(tokens[1].strip(' \\t\\n\\r'))\n",
    "                self.add_edge(s, t)\n",
    "                tmp_vertices.add(s)\n",
    "                tmp_vertices.add(t)\n",
    "                \n",
    "        self.vertices.clear()\n",
    "        self.vertices.extend(sorted(tmp_vertices))\n",
    "        \n",
    "    def __str__(self) :\n",
    "        return \"Vertices(\" + str(len(self.vertices)) + \"): \" + str(self.vertices) + \"\\n\" + \\\n",
    "    \"Edges(\" + str(len(self.edges)) + \"): \" + str(self.edges)    "
   ]
  },
  {
   "cell_type": "code",
   "execution_count": 5,
   "id": "0d71714e-180b-4009-8fd0-36aabcdefc5c",
   "metadata": {},
   "outputs": [],
   "source": [
    "# Test\n",
    "basic_graph = BasicGraph()\n",
    "\n",
    "basic_graph.add_vertex(0)\n",
    "basic_graph.add_vertex(1)\n",
    "basic_graph.add_vertex(2)\n",
    "\n",
    "basic_graph.add_edge(0, 1)\n",
    "basic_graph.add_edge(0, 2)\n",
    "basic_graph.add_edge(1, 0)\n",
    "basic_graph.add_edge(1, 2)\n",
    "basic_graph.add_edge(2, 0)\n",
    "basic_graph.add_edge(2, 1)\n",
    "\n",
    "#print(basic_graph)"
   ]
  },
  {
   "cell_type": "code",
   "execution_count": 6,
   "id": "3b9c2bcb-3e0c-455a-b063-c8f981e136f9",
   "metadata": {},
   "outputs": [],
   "source": [
    "# # # # # #"
   ]
  },
  {
   "cell_type": "code",
   "execution_count": 7,
   "id": "e19cd240-eb86-4cd0-b754-ec8cb0b60178",
   "metadata": {},
   "outputs": [],
   "source": [
    "# large data files\n",
    "data_file_url_list = [\"https://www.ece.ubc.ca/~treza/data/vertex_data\", \"https://www.ece.ubc.ca/~treza/data/edge_list\", \\\n",
    "                      \"https://www.ece.ubc.ca/~treza/data/vertex_data_json\"]"
   ]
  },
  {
   "cell_type": "code",
   "execution_count": 10,
   "id": "cb00bdc7-ab69-4c7b-8b1c-47ca13f40409",
   "metadata": {},
   "outputs": [
    {
     "name": "stdout",
     "output_type": "stream",
     "text": [
      "https://www.ece.ubc.ca/~treza/data/vertex_data\n",
      "--2021-06-27 22:05:10--  https://www.ece.ubc.ca/~treza/data/vertex_data\n",
      "Resolving www.ece.ubc.ca (www.ece.ubc.ca)... 206.87.224.50\n",
      "Connecting to www.ece.ubc.ca (www.ece.ubc.ca)|206.87.224.50|:443... connected.\n",
      "HTTP request sent, awaiting response... 307 Temporary Redirect\n",
      "Location: https://people.ece.ubc.ca/treza/data/vertex_data [following]\n",
      "--2021-06-27 22:05:11--  https://people.ece.ubc.ca/treza/data/vertex_data\n",
      "Resolving people.ece.ubc.ca (people.ece.ubc.ca)... 142.103.83.164\n",
      "Connecting to people.ece.ubc.ca (people.ece.ubc.ca)|142.103.83.164|:443... connected.\n",
      "HTTP request sent, awaiting response... 200 OK\n",
      "Length: 82868159 (79M)\n",
      "Saving to: ‘/home/jovyan/vertex_data’\n",
      "\n",
      "vertex_data         100%[===================>]  79.03M  38.3MB/s    in 2.1s    \n",
      "\n",
      "2021-06-27 22:05:13 (38.3 MB/s) - ‘/home/jovyan/vertex_data’ saved [82868159/82868159]\n",
      "\n",
      "https://www.ece.ubc.ca/~treza/data/edge_list\n",
      "--2021-06-27 22:05:14--  https://www.ece.ubc.ca/~treza/data/edge_list\n",
      "Resolving www.ece.ubc.ca (www.ece.ubc.ca)... 206.87.224.50\n",
      "Connecting to www.ece.ubc.ca (www.ece.ubc.ca)|206.87.224.50|:443... connected.\n",
      "HTTP request sent, awaiting response... 307 Temporary Redirect\n",
      "Location: https://people.ece.ubc.ca/treza/data/edge_list [following]\n",
      "--2021-06-27 22:05:14--  https://people.ece.ubc.ca/treza/data/edge_list\n",
      "Resolving people.ece.ubc.ca (people.ece.ubc.ca)... 142.103.83.164\n",
      "Connecting to people.ece.ubc.ca (people.ece.ubc.ca)|142.103.83.164|:443... connected.\n",
      "HTTP request sent, awaiting response... 200 OK\n",
      "Length: 577141904 (550M)\n",
      "Saving to: ‘/home/jovyan/edge_list’\n",
      "\n",
      "edge_list           100%[===================>] 550.41M  48.2MB/s    in 13s     \n",
      "\n",
      "2021-06-27 22:05:27 (43.4 MB/s) - ‘/home/jovyan/edge_list’ saved [577141904/577141904]\n",
      "\n",
      "https://www.ece.ubc.ca/~treza/data/vertex_data_json\n",
      "--2021-06-27 22:05:28--  https://www.ece.ubc.ca/~treza/data/vertex_data_json\n",
      "Resolving www.ece.ubc.ca (www.ece.ubc.ca)... 206.87.224.50\n",
      "Connecting to www.ece.ubc.ca (www.ece.ubc.ca)|206.87.224.50|:443... connected.\n",
      "HTTP request sent, awaiting response... 307 Temporary Redirect\n",
      "Location: https://people.ece.ubc.ca/treza/data/vertex_data_json [following]\n",
      "--2021-06-27 22:05:29--  https://people.ece.ubc.ca/treza/data/vertex_data_json\n",
      "Resolving people.ece.ubc.ca (people.ece.ubc.ca)... 142.103.83.164\n",
      "Connecting to people.ece.ubc.ca (people.ece.ubc.ca)|142.103.83.164|:443... connected.\n",
      "HTTP request sent, awaiting response... 200 OK\n",
      "Length: 1321783441 (1.2G)\n",
      "Saving to: ‘/home/jovyan/vertex_data_json’\n",
      "\n",
      "vertex_data_json    100%[===================>]   1.23G  13.8MB/s    in 60s     \n",
      "\n",
      "2021-06-27 22:06:29 (21.1 MB/s) - ‘/home/jovyan/vertex_data_json’ saved [1321783441/1321783441]\n",
      "\n"
     ]
    }
   ],
   "source": [
    "# download large data files\n",
    "for file_url in data_file_url_list :\n",
    "    print(file_url)\n",
    "    !wget --tries=5 --continue {file_url} --directory-prefix ~ # uncomment"
   ]
  },
  {
   "cell_type": "code",
   "execution_count": 15,
   "id": "33316e9d-186a-4478-b68e-64966b7d9d90",
   "metadata": {},
   "outputs": [],
   "source": [
    "# input/ouput files\n",
    "edge_list_filename = os.path.expanduser(\"~/edge_list\")\n",
    "vertex_data_filename = os.path.expanduser(\"~/vertex_data\")\n",
    "vertex_data_json_filename = os.path.expanduser(\"~/vertex_data_json\")\n",
    "output_filename = os.path.expanduser(\"~/output_05\")"
   ]
  },
  {
   "cell_type": "code",
   "execution_count": 16,
   "id": "244e4983-4446-4710-8d07-c3d8c7ed1222",
   "metadata": {},
   "outputs": [],
   "source": [
    "# # # # # #"
   ]
  },
  {
   "cell_type": "code",
   "execution_count": 17,
   "id": "56003280-30cb-4ccd-94b5-41dbf795065e",
   "metadata": {},
   "outputs": [
    {
     "name": "stdout",
     "output_type": "stream",
     "text": [
      "2267796\n",
      "22\n"
     ]
    }
   ],
   "source": [
    "# vertex data\n",
    "include_json_string = True\n",
    "\n",
    "vertex_type_map = dict()\n",
    "vertex_data_map = defaultdict(tuple)\n",
    "\n",
    "def parse_json_data_2(json_data, line, include_json_string = False) :\n",
    "    id_int = int(json_data[\"id\"])\n",
    "    label = json_data[\"labels\"][0]\n",
    "    properties_identifier = \"\"\n",
    "    properties_name = \"\"\n",
    "    \n",
    "    if \"properties\" in json_data :\n",
    "        if \"identifier\" in json_data[\"properties\"] :\n",
    "            properties_identifier = json_data[\"properties\"][\"identifier\"]\n",
    "        if \"name\" in json_data[\"properties\"] :\n",
    "            properties_name = json_data[\"properties\"][\"name\"][:15]\n",
    "    \n",
    "    # Test\n",
    "    # to save memory\n",
    "    if include_json_string == False :\n",
    "        line = \"\"\n",
    "        \n",
    "    vertex_data_map[id_int] = (label, properties_identifier, properties_name, line)\n",
    "    \n",
    "    vertex_type_count = vertex_type_map.get(label, 0)\n",
    "    vertex_type_map[label] = vertex_type_count + 1\n",
    "    \n",
    "with open(vertex_data_json_filename, \"r\") as read_file :\n",
    "    line_count = 0;\n",
    "    for line in read_file :\n",
    "        line = line.strip()\n",
    "        try :\n",
    "            json_data = json.loads(line)\n",
    "            parse_json_data_2(json_data, line, include_json_string)\n",
    "        except Exception as e :\n",
    "            print(e)\n",
    "            continue\n",
    "        line_count = line_count + 1\n",
    "    #print(str(line_count))\n",
    "\n",
    "print(len(vertex_data_map))\n",
    "print(len(vertex_type_map))"
   ]
  },
  {
   "cell_type": "code",
   "execution_count": 18,
   "id": "9ea3242f-d3c8-4adc-8e71-bb4db435d942",
   "metadata": {},
   "outputs": [],
   "source": [
    "# vertex data\n",
    "def get_vertex_type_count_list(vertex_type_map) :\n",
    "    tuple_list = []\n",
    "    for k, v in vertex_type_map.items() :\n",
    "        tuple_list.append((str(k) + \" (\" + str(v) + \")\", k))\n",
    "    return tuple_list\n",
    "    #print(tuple_list)\n",
    "    \n",
    "#vertex_type_count_list()"
   ]
  },
  {
   "cell_type": "code",
   "execution_count": 19,
   "id": "a18d41fb-b2cd-4bcc-8d82-7777d2acc6eb",
   "metadata": {},
   "outputs": [
    {
     "name": "stdout",
     "output_type": "stream",
     "text": [
      "135\n",
      "8109\n"
     ]
    }
   ],
   "source": [
    "# vertex data\n",
    "def vertices_filtered_by_type(vertex_type, begin = 0, end = 25) :\n",
    "    #filtered_veretx_data_map = dict()\n",
    "    filtered_veretx_data_list = []\n",
    "    for k, v in vertex_data_map.items() :\n",
    "        if v[0] != vertex_type :\n",
    "            continue\n",
    "        else :\n",
    "            #filtered_veretx_data_map[k] = v\n",
    "            #filtered_veretx_data_map[(v, k)] = v\n",
    "            \n",
    "            if v[2] != \"\" :\n",
    "                #filtered_veretx_data_map[k] = v[2]\n",
    "                filtered_veretx_data_list.append((str(k) + \" (\" + str(v[2]) + \")\", k))\n",
    "            elif v[1] != \"\" :\n",
    "                #filtered_veretx_data_map[k] = v[1]\n",
    "                filtered_veretx_data_list.append((str(k) + \" (\" + str(v[1]) + \")\", k))\n",
    "            else :\n",
    "                #filtered_veretx_data_map[k] = str(k) #v[0]\n",
    "                filtered_veretx_data_list.append((str(k) + \" (\" + str(v[2]) + \")\", k))\n",
    "                \n",
    "    #return filtered_veretx_data_map\n",
    "    #return filtered_veretx_data_list\n",
    "\n",
    "    if (end > len(filtered_veretx_data_list)) :\n",
    "        end = len(filtered_veretx_data_list)\n",
    "    return filtered_veretx_data_list[begin : end], end, len(filtered_veretx_data_list)\n",
    "\n",
    "#print(len(vertices_filtered_by_type(\"Organism\")))\n",
    "#print(vertices_filtered_by_type(\"Organism\")[0:10])\n",
    "x,y,z = vertices_filtered_by_type(\"Organism\", 15, 150)\n",
    "print(len(x))\n",
    "print(z)"
   ]
  },
  {
   "cell_type": "code",
   "execution_count": 20,
   "id": "1d77ebc0-4cb3-4ec9-b8e9-c5b3455b1748",
   "metadata": {},
   "outputs": [
    {
     "name": "stdout",
     "output_type": "stream",
     "text": [
      "9\n"
     ]
    }
   ],
   "source": [
    "# search\n",
    "import re\n",
    "\n",
    "def kw_search_filtered_by_veretx_type(vertex_type_set, keyword, result_list) :\n",
    "    for k, v in vertex_data_map.items() :        \n",
    "        if v[0] not in vertex_type_set :\n",
    "            continue\n",
    "        match_found = False\n",
    "        \n",
    "        complete_json_string = v[3]\n",
    "        \n",
    "        match_found = re.search(keyword, complete_json_string, re.IGNORECASE)\n",
    "        \n",
    "        if match_found :\n",
    "            #print(v[3])\n",
    "            if v[2] != \"\" :                \n",
    "                result_list.append((str(k) + \" (\" + str(v[2]) + \")\", k))\n",
    "            elif v[1] != \"\" :                \n",
    "                result_list.append((str(k) + \" (\" + str(v[1]) + \")\", k))\n",
    "            else :                \n",
    "                result_list.append((str(k) + \" (\" + str(v[2]) + \")\", k))               \n",
    "    \n",
    "    return len(result_list)\n",
    "\n",
    "tmp_list = list()\n",
    "#print(kw_search_filtered_by_veretx_type({\"Organism\", \"EC\"}, \"Carbon\", tmp_list))\n",
    "print(kw_search_filtered_by_veretx_type({\"Food\"}, \"apple\", tmp_list))\n",
    "#print(kw_search_filtered_by_veretx_type({\"Organism\"})[0:10])\n",
    "tmp_list.clear()"
   ]
  },
  {
   "cell_type": "code",
   "execution_count": 21,
   "id": "c667b7bb-4707-48d4-9de6-5b707fbe2eb5",
   "metadata": {},
   "outputs": [],
   "source": [
    "def load_more_from_list_by_range(item_list, begin = 0, end = 25) :\n",
    "    if (end > len(item_list)) :\n",
    "        end = len(item_list)\n",
    "    return item_list[begin : end], end, len(item_list)"
   ]
  },
  {
   "cell_type": "code",
   "execution_count": 22,
   "id": "19c6c6cd-d11d-4d79-beb4-f7948834707f",
   "metadata": {},
   "outputs": [],
   "source": [
    "# # # # # #"
   ]
  },
  {
   "cell_type": "code",
   "execution_count": 23,
   "id": "1828e4c0-41fe-431d-bd49-bfafdf1c8da1",
   "metadata": {},
   "outputs": [],
   "source": [
    "# input widgets\n",
    "vertex_type_count_list = get_vertex_type_count_list(vertex_type_map)\n",
    "\n",
    "vertex_type_selected_a = set()\n",
    "vertex_type_selected_b = set()\n",
    "\n",
    "vertex_type_a_set = set() # TODO: change name, the set contains vertex IDs\n",
    "vertex_type_b_set = set() # TODO: cange name\n",
    "vertex_type_c_set = set()\n",
    "\n",
    "sub_drdn_btn_pair_map = defaultdict(list)    \n",
    "\n",
    "hbox_vertex_data_a = widgets.HBox([])\n",
    "hbox_vertex_data_b = widgets.HBox([])\n",
    "\n",
    "label_selected_vertices_a = widgets.Label(\"Empty\")\n",
    "label_selected_vertices_b = widgets.Label(\"Empty\")\n",
    "label_selected_vertex_types = widgets.Label(\"Empty\")\n",
    "\n",
    "txar_vertex_info = widgets.Textarea(value=\"\", description=\"Vertex info\", placeholder=\"Empty\", disabled=True, \n",
    "                                    layout=widgets.Layout(width='30%', height='200px', align_content='center'))\n",
    "\n",
    "# search\n",
    "load_more_count = 50\n",
    "\n",
    "search_result_a_list = list()\n",
    "search_result_b_list = list()\n",
    "\n",
    "text_kw_search_a = widgets.Text(value=\"\", placeholder=\"Empty\")\n",
    "text_kw_search_b = widgets.Text(value=\"\", placeholder=\"Empty\")\n",
    "\n",
    "label_kw_search_result_count_a = widgets.Label(\"\")\n",
    "label_kw_search_result_count_b = widgets.Label(\"\")\n",
    "\n",
    "# # # # # #\n",
    "\n",
    "def txar_vertex_info_change(vertex) :\n",
    "    if str(vertex_data_map[int(vertex)][3]) != \"\" :\n",
    "        txar_vertex_info.value = str(vertex_data_map[int(vertex)][3]) # json string\n",
    "    else :\n",
    "        txar_vertex_info.value = str(vertex_data_map[int(vertex)])        \n",
    "    #print(vertex_data_map[int(vertex)])\n",
    "\n",
    "def btn_reset_all_on_click(*args) :\n",
    "    vertex_type_selected_a.clear()\n",
    "    vertex_type_selected_b.clear()\n",
    "    \n",
    "    vertex_type_a_set.clear()\n",
    "    vertex_type_b_set.clear()\n",
    "    vertex_type_c_set.clear()\n",
    "  \n",
    "    hbox_vertex_data_a.children = tuple()\n",
    "    hbox_vertex_data_b.children = tuple()\n",
    "\n",
    "    txar_vertex_info.value = \"Empty\"\n",
    "    \n",
    "    label_selected_vertices_a.value = \"Empty\"\n",
    "    label_selected_vertices_b.value = \"Empty\"\n",
    "    label_selected_vertex_types.value = \"Empty\"\n",
    "    \n",
    "    sub_drdn_btn_pair_map.clear()\n",
    "    \n",
    "    text_kw_search_a.value = \"\"\n",
    "    text_kw_search_b.value = \"\"\n",
    "    \n",
    "    label_kw_search_result_count_a.value = \"\"\n",
    "    label_kw_search_result_count_b.value = \"\"\n",
    "    \n",
    "    search_result_a_list.clear()\n",
    "    search_result_b_list.clear()\n",
    "    \n",
    "def btn_selected_vertices_a_on_click(*args) :\n",
    "    # args[0] is the object itself\n",
    "    vertex_type_a_set.clear()\n",
    "    label_selected_vertices_a.value = \"Empty\"    \n",
    "    txar_vertex_info.value = \"Empty\"\n",
    "\n",
    "def btn_selected_vertices_b_on_click(*args) :\n",
    "    vertex_type_b_set.clear()\n",
    "    label_selected_vertices_b.value = \"Empty\"    \n",
    "    txar_vertex_info.value = \"Empty\"\n",
    "\n",
    "def btn_selected_vertex_types_on_click(*args) :\n",
    "    vertex_type_c_set.clear()\n",
    "    label_selected_vertex_types.value = \"Empty\"    \n",
    "        \n",
    "def on_sub_drdn_value_change_a(change) :\n",
    "    #print(\"a: \" + str(change[\"type\"]))\n",
    "    #print(\"a: \" + str(change[\"new\"]))\n",
    "    #print(\"a: \" + str(len(change[\"new\"])))\n",
    "    \n",
    "    if len(change[\"new\"]) < 1 :\n",
    "        txar_vertex_info.value = \"Empty\"\n",
    "        return\n",
    "    \n",
    "    for i in change[\"new\"] :\n",
    "        vertex_type_a_set.add(i)\n",
    "    #print(vertex_type_a_set)    \n",
    "    label_selected_vertices_a.value = str(sorted(vertex_type_a_set))\n",
    "    txar_vertex_info_change(change[\"new\"][0])\n",
    "    \n",
    "def on_sub_drdn_value_change_b(change) :\n",
    "    #print(\"b: \" + str(change[\"new\"]))\n",
    "    \n",
    "    if len(change[\"new\"]) < 1 :\n",
    "        txar_vertex_info.value = \"Empty\"\n",
    "        return\n",
    "    \n",
    "    for i in change[\"new\"] :\n",
    "        vertex_type_b_set.add(i)\n",
    "    #print(vertex_type_b_set)\n",
    "    label_selected_vertices_b.value = str(sorted(vertex_type_b_set))\n",
    "    txar_vertex_info_change(change[\"new\"][0])\n",
    "\n",
    "def btn_search_result_load_more_on_click(*args) :\n",
    "    btn = args[0]\n",
    "    #print(id(btn))\n",
    "    #print(sub_drdn_btn_pair_map)\n",
    "    \n",
    "    if sub_drdn_btn_pair_map[id(btn)][1] >= sub_drdn_btn_pair_map[id(btn)][2] :\n",
    "        return\n",
    "    \n",
    "    drdn_found = False\n",
    "    \n",
    "    for vbox in hbox_vertex_data_a.children :\n",
    "        for child in vbox.children : \n",
    "            if sub_drdn_btn_pair_map[id(btn)][0] == id(child) :\n",
    "                #print(sub_drdn_btn_pair_map)\n",
    "        \n",
    "                vertex_type = sub_drdn_btn_pair_map[id(btn)][3]\n",
    "                begin = int(sub_drdn_btn_pair_map[id(btn)][1]) # starting point for this batch\n",
    "                end = begin + load_more_count # (begin : end]\n",
    "                \n",
    "                #print(vertex_type)\n",
    "                #print(begin)\n",
    "                #print(str(end - 1)) # (begin : end-1)\n",
    "                #print(len(search_result_a_list))\n",
    "                \n",
    "                sub_drdn_options_list, sub_drdn_options_list_end, sub_drdn_options_list_len = \\\n",
    "                    load_more_from_list_by_range(search_result_a_list, begin, end)\n",
    "                \n",
    "                #print(len(sub_drdn_options_list))\n",
    "                #print(sub_drdn_options_list_end)\n",
    "                #print(sub_drdn_options_list_len)\n",
    "                \n",
    "                child.options = sub_drdn_options_list # replace the previous entries\n",
    "                \n",
    "                sub_drdn_btn_pair_map[id(btn)][1] = sub_drdn_options_list_end # starting point for the next batch                \n",
    "                                \n",
    "                btn.description = \"Load more \" + str(begin + 1) + \"-\" + str(sub_drdn_options_list_end)            \n",
    "             \n",
    "                drdn_found = True\n",
    "                break\n",
    "            if drdn_found :\n",
    "                break\n",
    "                \n",
    "    for vbox in hbox_vertex_data_b.children :\n",
    "        for child in vbox.children : \n",
    "            if sub_drdn_btn_pair_map[id(btn)][0] == id(child) :\n",
    "                        \n",
    "                vertex_type = sub_drdn_btn_pair_map[id(btn)][3]\n",
    "                begin = int(sub_drdn_btn_pair_map[id(btn)][1]) # starting point for this batch\n",
    "                end = begin + load_more_count # (begin : end]\n",
    "                                                \n",
    "                sub_drdn_options_list, sub_drdn_options_list_end, sub_drdn_options_list_len = \\\n",
    "                    load_more_from_list_by_range(search_result_b_list, begin, end)\n",
    "                                                \n",
    "                child.options = sub_drdn_options_list # replace the previous entries\n",
    "                sub_drdn_btn_pair_map[id(btn)][1] = sub_drdn_options_list_end # starting point for the next batch                                \n",
    "                btn.description = \"Load more \" + str(begin + 1) + \"-\" + str(sub_drdn_options_list_end)            \n",
    "             \n",
    "                drdn_found = True\n",
    "                break\n",
    "            if drdn_found :\n",
    "                break\n",
    "\n",
    "def btn_kw_search_a_on_click(*args) :\n",
    "    hbox_vertex_data_a.children = tuple()\n",
    "    label_kw_search_result_count_a.value = \"\"\n",
    "    label_selected_vertices_a.value = \"Empty\"\n",
    "    txar_vertex_info.value = \"Empty\"    \n",
    "    search_result_a_list.clear()\n",
    "    \n",
    "    if text_kw_search_a.value == \"\" :\n",
    "        return\n",
    "    vertex_type = \"dummy\" # TODO: remove\n",
    "    #print(text_kw_search_a.value)    \n",
    "    #print(vertex_type_selected_a)\n",
    "    kw_search_filtered_by_veretx_type(vertex_type_selected_a, text_kw_search_a.value, search_result_a_list)\n",
    "    label_kw_search_result_count_a.value = str(len(search_result_a_list))\n",
    "    #print(len(search_result_a_list))\n",
    "    \n",
    "    sub_drdn_options_list, sub_drdn_options_list_end, sub_drdn_options_list_len = \\\n",
    "        load_more_from_list_by_range(search_result_a_list, 0, load_more_count)\n",
    "    \n",
    "    sub_drdn = widgets.SelectMultiple(options=sub_drdn_options_list, description=\"\")        \n",
    "    sub_drdn.observe(on_sub_drdn_value_change_a, names='value')\n",
    "    \n",
    "    sub_btn = widgets.Button(description=\"Load more 1-\" + str(sub_drdn_options_list_end), tooltip=\"Tooltip\", disabled=False)\n",
    "    sub_btn.on_click(callback=btn_search_result_load_more_on_click)\n",
    "               \n",
    "    vbox_sub_drdn_btn = widgets.VBox([sub_drdn, sub_btn])\n",
    "    \n",
    "    #hbox_vertex_data_a.children = hbox_vertex_data_a.children + (sub_drdn,)\n",
    "    hbox_vertex_data_a.children = hbox_vertex_data_a.children + (vbox_sub_drdn_btn,)\n",
    "    \n",
    "    sub_drdn_btn_pair_map[id(sub_btn)] = [id(sub_drdn), sub_drdn_options_list_end, sub_drdn_options_list_len, vertex_type]\n",
    "\n",
    "def btn_kw_search_b_on_click(*args) :\n",
    "    hbox_vertex_data_b.children = tuple()\n",
    "    label_kw_search_result_count_b.value = \"\"\n",
    "    label_selected_vertices_b.value = \"Empty\"\n",
    "    txar_vertex_info.value = \"Empty\"    \n",
    "    search_result_b_list.clear()\n",
    "    \n",
    "    if text_kw_search_b.value == \"\" :\n",
    "        return\n",
    "    vertex_type = \"dummy\" # TODO: remove\n",
    "    #print(text_kw_search_b.value)    \n",
    "    #print(vertex_type_selected_b)\n",
    "    kw_search_filtered_by_veretx_type(vertex_type_selected_b, text_kw_search_b.value, search_result_b_list)\n",
    "    label_kw_search_result_count_b.value = str(len(search_result_b_list))\n",
    "    #print(len(search_result_b_list))\n",
    "    \n",
    "    sub_drdn_options_list, sub_drdn_options_list_end, sub_drdn_options_list_len = \\\n",
    "        load_more_from_list_by_range(search_result_b_list, 0, load_more_count)\n",
    "    \n",
    "    sub_drdn = widgets.SelectMultiple(options=sub_drdn_options_list, description=\"\")        \n",
    "    sub_drdn.observe(on_sub_drdn_value_change_b, names='value')\n",
    "    \n",
    "    sub_btn = widgets.Button(description=\"Load more 1-\" + str(sub_drdn_options_list_end), tooltip=\"Tooltip\", disabled=False)\n",
    "    sub_btn.on_click(callback=btn_search_result_load_more_on_click)\n",
    "               \n",
    "    vbox_sub_drdn_btn = widgets.VBox([sub_drdn, sub_btn])\n",
    "    \n",
    "    #hbox_vertex_data_b.children = hbox_vertex_data_b.children + (sub_drdn,)\n",
    "    hbox_vertex_data_b.children = hbox_vertex_data_b.children + (vbox_sub_drdn_btn,)\n",
    "    \n",
    "    sub_drdn_btn_pair_map[id(sub_btn)] = [id(sub_drdn), sub_drdn_options_list_end, sub_drdn_options_list_len, vertex_type]\n",
    "    \n",
    "def on_drdn_value_change_a(change) :\n",
    "    #print(change[\"new\"])    \n",
    "    #print(change)\n",
    "    hbox_vertex_data_a.children = tuple()\n",
    "    text_kw_search_a.value = \"\"\n",
    "    label_kw_search_result_count_a.value = \"\"\n",
    "    label_selected_vertices_a.value = \"Empty\"\n",
    "    txar_vertex_info.value = \"Empty\"    \n",
    "    vertex_type_selected_a.clear()\n",
    "    vertex_type_a_set.clear()\n",
    "    \n",
    "    for i in change[\"new\"] :\n",
    "        vertex_type = str(i)        \n",
    "        vertex_type_selected_a.add(vertex_type)              \n",
    "    \n",
    "def on_drdn_value_change_b(change) :\n",
    "    #print(change[\"new\"])    \n",
    "    #print(change)\n",
    "    hbox_vertex_data_b.children = tuple()    \n",
    "    text_kw_search_b.value = \"\"\n",
    "    label_kw_search_result_count_b.value = \"\"\n",
    "    label_selected_vertices_b.value = \"Empty\"\n",
    "    txar_vertex_info.value = \"Empty\"    \n",
    "    vertex_type_selected_b.clear()\n",
    "    vertex_type_b_set.clear()\n",
    "    \n",
    "    for i in change[\"new\"] :\n",
    "        vertex_type = str(i)\n",
    "        vertex_type_selected_b.add(vertex_type)       \n",
    "        \n",
    "def on_drdn_value_change_c(change) :\n",
    "        #print(change[\"new\"])  \n",
    "        for i in change[\"new\"] :\n",
    "            vertex_type_c_set.add(i)\n",
    "        label_selected_vertex_types.value = str(sorted(vertex_type_c_set))\n",
    "\n",
    "# # # # # #\n",
    "        \n",
    "#drdn_vertex_type_a = widgets.SelectMultiple(options=[*vertex_type_map], description=\"Source types\")\n",
    "drdn_vertex_type_a = widgets.SelectMultiple(options=vertex_type_count_list, description=\"Source types\")\n",
    "drdn_vertex_type_a.observe(on_drdn_value_change_a, names='value')\n",
    "\n",
    "#drdn_vertex_type_b = widgets.SelectMultiple(options=[*vertex_type_map], description=\"Target types\")\n",
    "drdn_vertex_type_b = widgets.SelectMultiple(options=vertex_type_count_list, description=\"Target types\")\n",
    "drdn_vertex_type_b.observe(on_drdn_value_change_b, names='value')\n",
    "\n",
    "btn_kw_search_a = widgets.Button(description=\"Search\")\n",
    "btn_kw_search_a.on_click(callback=btn_kw_search_a_on_click)\n",
    "\n",
    "btn_kw_search_b = widgets.Button(description=\"Search\")\n",
    "btn_kw_search_b.on_click(callback=btn_kw_search_b_on_click)\n",
    "\n",
    "btn_selected_vertices_a = widgets.Button(description=\"Reset\", tooltip=\"Tooltip\", disabled=False)\n",
    "btn_selected_vertices_a.on_click(callback=btn_selected_vertices_a_on_click)\n",
    "\n",
    "btn_selected_vertices_b = widgets.Button(description=\"Reset\", tooltip=\"Tooltip\", disabled=False)\n",
    "btn_selected_vertices_b.on_click(callback=btn_selected_vertices_b_on_click)\n",
    "\n",
    "btn_reset_all = widgets.Button(description=\"Reset\", disabled=False)\n",
    "btn_reset_all.on_click(callback=btn_reset_all_on_click)\n",
    "\n",
    "hbox_vertex_type_ab = widgets.HBox([drdn_vertex_type_a, drdn_vertex_type_b, txar_vertex_info, btn_reset_all])\n",
    "\n",
    "# filter by vertex type\n",
    "drdn_vertex_type_c = widgets.SelectMultiple(options=vertex_type_count_list, description=\"Filter by vertex type\")\n",
    "drdn_vertex_type_c.observe(on_drdn_value_change_c, names='value')\n",
    "\n",
    "btn_selected_vertex_types = widgets.Button(description=\"Reset\", disabled=False)\n",
    "btn_selected_vertex_types.on_click(callback=btn_selected_vertex_types_on_click)\n",
    "\n",
    "#print(widgets.Widget.observe.__doc__)"
   ]
  },
  {
   "cell_type": "code",
   "execution_count": 24,
   "id": "8e34c230-f303-4fcb-bb4f-5f8df4b3ce11",
   "metadata": {},
   "outputs": [
    {
     "data": {
      "application/vnd.jupyter.widget-view+json": {
       "model_id": "25bf3be0798d43fa8a8608b7934f9b8e",
       "version_major": 2,
       "version_minor": 0
      },
      "text/plain": [
       "HBox(children=(SelectMultiple(description='Source types', options=(('Compound (1967305)', 'Compound'), ('SideE…"
      ]
     },
     "metadata": {},
     "output_type": "display_data"
    },
    {
     "data": {
      "application/vnd.jupyter.widget-view+json": {
       "model_id": "1eb1f845789e4c29997410a6b50e745b",
       "version_major": 2,
       "version_minor": 0
      },
      "text/plain": [
       "Label(value='Source vertices')"
      ]
     },
     "metadata": {},
     "output_type": "display_data"
    },
    {
     "data": {
      "application/vnd.jupyter.widget-view+json": {
       "model_id": "51d121d848744e649fac5d90be2e7f3e",
       "version_major": 2,
       "version_minor": 0
      },
      "text/plain": [
       "HBox(children=(Button(description='Search', style=ButtonStyle()), Text(value='', placeholder='Empty'), Label(v…"
      ]
     },
     "metadata": {},
     "output_type": "display_data"
    },
    {
     "data": {
      "application/vnd.jupyter.widget-view+json": {
       "model_id": "a9d596a05c724f6c9b103c517be8a4c1",
       "version_major": 2,
       "version_minor": 0
      },
      "text/plain": [
       "HBox()"
      ]
     },
     "metadata": {},
     "output_type": "display_data"
    },
    {
     "data": {
      "application/vnd.jupyter.widget-view+json": {
       "model_id": "9d55082f01ae4970a2b5270b7deb44aa",
       "version_major": 2,
       "version_minor": 0
      },
      "text/plain": [
       "HBox(children=(Button(description='Reset', style=ButtonStyle(), tooltip='Tooltip'), Label(value='Selected sour…"
      ]
     },
     "metadata": {},
     "output_type": "display_data"
    },
    {
     "data": {
      "application/vnd.jupyter.widget-view+json": {
       "model_id": "8f820d08a20145398ecd4e7b0abf1f46",
       "version_major": 2,
       "version_minor": 0
      },
      "text/plain": [
       "Label(value='Target vertices')"
      ]
     },
     "metadata": {},
     "output_type": "display_data"
    },
    {
     "data": {
      "application/vnd.jupyter.widget-view+json": {
       "model_id": "b7017f4cac7b488eb03b199599b7b467",
       "version_major": 2,
       "version_minor": 0
      },
      "text/plain": [
       "HBox(children=(Button(description='Search', style=ButtonStyle()), Text(value='', placeholder='Empty'), Label(v…"
      ]
     },
     "metadata": {},
     "output_type": "display_data"
    },
    {
     "data": {
      "application/vnd.jupyter.widget-view+json": {
       "model_id": "ff8b61e07f2249938fcf7e7066439fd8",
       "version_major": 2,
       "version_minor": 0
      },
      "text/plain": [
       "HBox()"
      ]
     },
     "metadata": {},
     "output_type": "display_data"
    },
    {
     "data": {
      "application/vnd.jupyter.widget-view+json": {
       "model_id": "d5c501a8b3b64b60a63e2b7140f9f344",
       "version_major": 2,
       "version_minor": 0
      },
      "text/plain": [
       "HBox(children=(Button(description='Reset', style=ButtonStyle(), tooltip='Tooltip'), Label(value='Selected targ…"
      ]
     },
     "metadata": {},
     "output_type": "display_data"
    },
    {
     "data": {
      "application/vnd.jupyter.widget-view+json": {
       "model_id": "352ae59dfef24b33beb7bfed47d26e44",
       "version_major": 2,
       "version_minor": 0
      },
      "text/plain": [
       "HBox(children=(SelectMultiple(description='Filter by vertex type', options=(('Compound (1967305)', 'Compound')…"
      ]
     },
     "metadata": {},
     "output_type": "display_data"
    }
   ],
   "source": [
    "# display input widgets\n",
    "display(hbox_vertex_type_ab)\n",
    "\n",
    "display(widgets.Label(\"Source vertices\"))\n",
    "display(widgets.HBox([btn_kw_search_a, text_kw_search_a, label_kw_search_result_count_a]))\n",
    "display(hbox_vertex_data_a)\n",
    "\n",
    "display(widgets.HBox([btn_selected_vertices_a, widgets.Label(\"Selected source vertices\"), label_selected_vertices_a]))\n",
    "\n",
    "display(widgets.Label(\"Target vertices\"))\n",
    "display(widgets.HBox([btn_kw_search_b, text_kw_search_b, label_kw_search_result_count_b]))\n",
    "display(hbox_vertex_data_b)\n",
    "display(widgets.HBox([btn_selected_vertices_b, widgets.Label(\"Selected target vertices\"), label_selected_vertices_b]))\n",
    "\n",
    "display(widgets.HBox([drdn_vertex_type_c, btn_selected_vertex_types, widgets.Label(\"Selected vertex types\"),  \n",
    "                      label_selected_vertex_types]))"
   ]
  },
  {
   "cell_type": "code",
   "execution_count": null,
   "id": "b22c485a-6c6f-45c0-a044-36022e8e7599",
   "metadata": {},
   "outputs": [],
   "source": [
    "# # # # # #"
   ]
  },
  {
   "cell_type": "code",
   "execution_count": 25,
   "id": "e6cff54a-f32d-4441-bf60-c24a1d90ef71",
   "metadata": {},
   "outputs": [
    {
     "name": "stdout",
     "output_type": "stream",
     "text": [
      "{2268378}\n",
      "{2283541}\n",
      "{'Reaction', 'EC', 'Compound', 'Organism'}\n"
     ]
    }
   ],
   "source": [
    "# input parameters\n",
    "print(vertex_type_a_set)\n",
    "print(vertex_type_b_set)\n",
    "print(vertex_type_c_set)\n",
    "# TODO"
   ]
  },
  {
   "cell_type": "code",
   "execution_count": 26,
   "id": "22294d11-81e1-4898-9098-a9d1926a0ac3",
   "metadata": {},
   "outputs": [
    {
     "name": "stdout",
     "output_type": "stream",
     "text": [
      "{'Compound': 1546094233688003844, 'EC': 8121734289560993151, 'Organism': 11838663228819696432, 'Reaction': 13996733750220222916}\n"
     ]
    }
   ],
   "source": [
    "vertex_type_c_map = dict()\n",
    "\n",
    "with open (vertex_data_filename, \"r\") as read_file :\n",
    "    for line in read_file :\n",
    "        if len(vertex_type_c_set) < 1 :\n",
    "            break\n",
    "        line = line.strip()\n",
    "        tokens = line.split(\" \")\n",
    "        vertex = int(tokens[0].strip(' \\t\\n\\r'))\n",
    "        vertex_data_hash = int(tokens[1].strip(' \\t\\n\\r'))\n",
    "        vertex_data_string = str(tokens[2].strip(' \\t\\n\\r'))        \n",
    "        if vertex_data_string in vertex_type_c_map :\n",
    "            continue\n",
    "        if vertex_data_string in vertex_type_c_set :\n",
    "            vertex_type_c_map[vertex_data_string] = vertex_data_hash\n",
    "        if len(vertex_type_c_map) == len(vertex_type_c_set) :\n",
    "            break\n",
    "\n",
    "if len(vertex_type_c_map) != len(vertex_type_c_set) :\n",
    "    print(\"Error: items not found.\")\n",
    "print(vertex_type_c_map)        "
   ]
  },
  {
   "cell_type": "code",
   "execution_count": null,
   "id": "92320fff-4bc8-41dc-bd3a-09d8926ba8d2",
   "metadata": {},
   "outputs": [],
   "source": []
  },
  {
   "cell_type": "code",
   "execution_count": null,
   "id": "42e8d4ba-b032-493d-b777-1250a1c02f35",
   "metadata": {},
   "outputs": [],
   "source": [
    "# # # # # #"
   ]
  },
  {
   "cell_type": "code",
   "execution_count": 30,
   "id": "04ac86c1-480b-4811-a2e2-eb28ef4dedcf",
   "metadata": {},
   "outputs": [],
   "source": [
    "# compute paths\n",
    "s_t_vertices = []\n",
    "#s_t_vertices = [0, 1]\n",
    "#search_depth = 3\n",
    "# command"
   ]
  },
  {
   "cell_type": "code",
   "execution_count": 31,
   "id": "2073532b-e27c-45b6-94c3-5ad2cfb2fa06",
   "metadata": {},
   "outputs": [],
   "source": [
    "# # # # # #"
   ]
  },
  {
   "cell_type": "code",
   "execution_count": 32,
   "id": "26b03971-f229-4c71-b316-a431bb71981c",
   "metadata": {},
   "outputs": [
    {
     "name": "stdout",
     "output_type": "stream",
     "text": [
      " -f 1546094233688003844 -f 8121734289560993151 -f 11838663228819696432 -f 13996733750220222916\n"
     ]
    }
   ],
   "source": [
    "# create command string\n",
    "command_string_vertex_data_filter = \"\"\n",
    "for k, v in vertex_type_c_map.items() :\n",
    "    command_string_vertex_data_filter = command_string_vertex_data_filter + \" -f \" + str(v)\n",
    "print(command_string_vertex_data_filter)"
   ]
  },
  {
   "cell_type": "code",
   "execution_count": 33,
   "id": "21b20378-3695-4e6f-a6d3-4648329e9754",
   "metadata": {},
   "outputs": [
    {
     "name": "stdout",
     "output_type": "stream",
     "text": [
      " -u 2268378  -v 2283541  -f 1546094233688003844  -f 8121734289560993151  -f 11838663228819696432  -f 13996733750220222916 \n"
     ]
    }
   ],
   "source": [
    "# create command string\n",
    "command_string = \"\"\n",
    "for i in vertex_type_a_set :\n",
    "    command_string = command_string + \" -u \" + str(i) + \" \"\n",
    "    s_t_vertices.append(i)\n",
    "\n",
    "for i in vertex_type_b_set :\n",
    "    command_string = command_string + \" -v \" + str(i) + \" \"\n",
    "    s_t_vertices.append(i)\n",
    "\n",
    "for k, v in vertex_type_c_map.items() :\n",
    "    command_string = command_string + \" -f \" + str(v) + \" \"\n",
    "print(command_string)"
   ]
  },
  {
   "cell_type": "code",
   "execution_count": null,
   "id": "ea6208f9-2285-4390-98f0-eb7b2efe7b07",
   "metadata": {},
   "outputs": [],
   "source": []
  },
  {
   "cell_type": "code",
   "execution_count": null,
   "id": "5feea912-c2f3-4da0-bf19-a1bfd49c06e9",
   "metadata": {},
   "outputs": [],
   "source": [
    "s_t_vertices = [2268378, 2283541]\n",
    "search_depth = 4\n",
    "!./connection_subgraph_undirected ~/edge_list ~/vertex_data ~/tmp -d 4 -u 2268378 -v 2283541 2> ~/output_05"
   ]
  },
  {
   "cell_type": "code",
   "execution_count": null,
   "id": "acd1adc7-fcef-411d-827f-be36782f1fcb",
   "metadata": {},
   "outputs": [],
   "source": [
    "s_t_vertices = [2268378, 2283541]\n",
    "search_depth = 5\n",
    "!./connection_subgraph_undirected {edge_list_filename} {vertex_data_filename} ~/tmp -d {search_depth} -u {s_t_vertices[0]} -v {s_t_vertices[1]} 2> {output_filename}"
   ]
  },
  {
   "cell_type": "code",
   "execution_count": null,
   "id": "bbb78171-d8e2-4648-b504-a3de653eb9c4",
   "metadata": {},
   "outputs": [],
   "source": [
    "s_t_vertices = [2268378, 2283541]\n",
    "search_depth = 4\n",
    "!./connection_subgraph_undirected ~/edge_list ~/vertex_data ~/tmp -d 4 -u 2268378 -v 2283541 -f 1546094233688003844 -f 13996733750220222916 2> ~/output_05"
   ]
  },
  {
   "cell_type": "code",
   "execution_count": null,
   "id": "7e00dc04-5c2c-4898-b40b-a85d54cb60c9",
   "metadata": {},
   "outputs": [],
   "source": [
    "s_t_vertices = [2268378, 2283541]\n",
    "search_depth = 6\n",
    "!./connection_subgraph_undirected {edge_list_filename} {vertex_data_filename} ~/tmp -d {search_depth} -u {s_t_vertices[0]} -v {s_t_vertices[1]} {command_string_vertex_data_filter} 2> {output_filename}"
   ]
  },
  {
   "cell_type": "code",
   "execution_count": 34,
   "id": "f4c0fa76-d65f-4628-96c6-1cf5d9c90a44",
   "metadata": {},
   "outputs": [
    {
     "name": "stdout",
     "output_type": "stream",
     "text": [
      "CMD line:  ./connection_subgraph_undirected /home/jovyan/edge_list /home/jovyan/vertex_data /home/jovyan/tmp -u 2268378 -v 2283541 -f 1546094233688003844 -f 8121734289560993151 -f 11838663228819696432 -f 13996733750220222916 -d 5\n",
      "\n",
      "Hostname: jupyter-llnl-2dhavoqgt-2d9hpty0u3\n",
      "Number of available threads on jupyter-llnl-2dhavoqgt-2d9hpty0u3: 6\n",
      "\n",
      "Building in-memory CSR graph (undirected) ...\n",
      "Reading edge list file ...\n",
      "Size of edge list: 36226384\n",
      "Max vertex: 2329608\n",
      "Sorting edges by source vertex ...\n",
      "Creating CSR row pointers ...\n",
      "Size of vertex list: 2329610\n",
      "Size of vertex degree list: 2329609\n",
      "Sorting neighbors ...\n",
      "Generating edge list ...\n",
      "Size of edge list: 36226384\n",
      "CSR Graph generation completed.\n",
      "Number of vertices: 2329609\n",
      "Number of edges: 36226384\n",
      "Max vertex: 2329608\n",
      "Reading vertex data file ...\n",
      "Size of vertex data list: 2329609\n",
      "Size of edge state list: 36226384, 2\n",
      "Time: 34.0369 seconds.\n",
      "\n",
      "Selected veretx data: 11838663228819696432, 13996733750220222916, 1546094233688003844, 8121734289560993151, \n",
      "Eliminating non-path vertices ... \n",
      "2\n",
      "2283541 2268378 \n",
      "Max out degree (log2): 16\n",
      "Iteration: 0, deleted vertex count: 2066367\n",
      "Iteration: 1, deleted vertex count: 88\n",
      "Iteration: 2, deleted vertex count: 5\n",
      "Iteration: 3, deleted vertex count: 0\n",
      "Time: 0.346221 seconds.\n",
      "Size of vertex active list: 2329609\n",
      "Active vertex count: 263149\n",
      "Active edge count: 35806174\n",
      "\n",
      "Searching paths ... \n",
      "Source vertices: 2268378 1, \n",
      "Target vertices: 2283541 1, \n",
      "2268378 301 5 51655\n",
      "Time: 0.391678 seconds.\n",
      "2283541 1421 5 46670\n",
      "Time: 0.308347 seconds.\n",
      "\n",
      "2268378 2 0\n",
      "2268378 2 4\n",
      "2283541 2 4\n",
      "2283541 2 0\n",
      "\n",
      "Reset states ... \n",
      "Source vertices: 2268378 0, \n",
      "Target vertices: 2283541 0, \n",
      "\n",
      "BFS tree intersection ... \n",
      "Edges processed: 18113470 | 18113192\n",
      "Time: 13.1248 seconds.\n",
      "Source vertices: 2268378 1, \n",
      "Target vertices: 2283541 1, \n",
      "Active vertex count: 37383\n",
      "\n",
      "Filter ... \n",
      "Eliminate invalid edges from the BFS intersection tree ... \n",
      "Iteration: 0, deleted vertex count: 2599\n",
      "Iteration: 1, deleted vertex count: 1761\n",
      "Iteration: 2, deleted vertex count: 903\n",
      "Iteration: 3, deleted vertex count: 0\n",
      "Time: 0.165703 seconds.\n",
      "Active vertex count: 11\n",
      "Active edge count: 24\n",
      "\n"
     ]
    }
   ],
   "source": [
    "# UI to command string example\n",
    "#s_t_vertices = [2268378, 2283541]\n",
    "search_depth = 5\n",
    "command_string = command_string + \" -d \" + str(search_depth) + \" \" \n",
    "!./connection_subgraph_undirected {edge_list_filename} {vertex_data_filename} ~/tmp {command_string}  2> {output_filename}"
   ]
  },
  {
   "cell_type": "code",
   "execution_count": null,
   "id": "4d4f713e-6316-4506-9ed5-cc28b9c8c6a9",
   "metadata": {},
   "outputs": [],
   "source": [
    "s_t_vertices = [1971037, 1971579] # not found\n",
    "search_depth = 20\n",
    "!./connection_subgraph_undirected {edge_list_filename} {vertex_data_filename} ~/tmp -d {search_depth} -u {s_t_vertices[0]} -v {s_t_vertices[1]} {command_string_vertex_data_filter} 2> {output_filename}"
   ]
  },
  {
   "cell_type": "code",
   "execution_count": null,
   "id": "d6dc1271-df02-403f-b359-e827ce273ffe",
   "metadata": {},
   "outputs": [],
   "source": [
    "s_t_vertices = [53684, 1970914] # not found\n",
    "search_depth = 20\n",
    "!./connection_subgraph_undirected ~/edge_list ~/vertex_data ~/tmp -d 4 -u 53684 -v 1970914 -f 1546094233688003844 -f 8121734289560993151 -f 11838663228819696432 -f 13996733750220222916 2> ~/output_05"
   ]
  },
  {
   "cell_type": "code",
   "execution_count": null,
   "id": "d204d8cc-8b1b-4a6e-9a13-9e6cb742ece1",
   "metadata": {},
   "outputs": [],
   "source": [
    "# # # # # #"
   ]
  },
  {
   "cell_type": "code",
   "execution_count": 35,
   "id": "e8113a3e-0239-4ca7-83f0-e0687eefc6de",
   "metadata": {},
   "outputs": [
    {
     "name": "stdout",
     "output_type": "stream",
     "text": [
      "Vertex count: 11\n",
      "Edge count: 24\n"
     ]
    }
   ],
   "source": [
    "#output_graph = basic_graph\n",
    "output_graph = BasicGraph(output_filename)\n",
    "print(\"Vertex count: \" + str(len(output_graph.vertices)))\n",
    "print(\"Edge count: \" + str(len(output_graph.edges)))"
   ]
  },
  {
   "cell_type": "code",
   "execution_count": 36,
   "id": "f8f328b3-bda4-4eea-b630-d5b979192563",
   "metadata": {},
   "outputs": [],
   "source": [
    "# cytoscape widgets"
   ]
  },
  {
   "cell_type": "code",
   "execution_count": 37,
   "id": "98a18aee-226c-489b-b8bc-78f8b4c98746",
   "metadata": {},
   "outputs": [],
   "source": [
    "def basic_graph_to_cytoscape_graph (graph) :\n",
    "    graph_json = {\"nodes\" : [], \"edges\" : []}\n",
    "   \n",
    "    for v in graph.vertices :\n",
    "            #print(v)\n",
    "            v_dict = {\"data\" : {}}\n",
    "            v_dict[\"data\"][\"id\"] = str(v)\n",
    "            v_dict[\"data\"][\"idInt\"] = v\n",
    "            #v_dict[\"data\"][\"label\"] = str(v)\n",
    "            v_dict[\"data\"][\"type\"] = str(vertex_data_map[v][0])\n",
    "            v_dict[\"data\"][\"label\"] = str(vertex_data_map[v][2])\n",
    "            v_dict[\"data\"][\"description\"] = str(vertex_data_map[v][3])\n",
    "            graph_json[\"nodes\"].append(v_dict)\n",
    "        \n",
    "    for s, t in graph.edges :\n",
    "            #print(s, end = \" \")\n",
    "            #print(t)\n",
    "            e_dict = {\"data\" : {}}\n",
    "            #e_dict[\"data\"][\"id\"] = \"\"\n",
    "            e_dict[\"data\"][\"source\"] = str(s)\n",
    "            e_dict[\"data\"][\"target\"] = str(t)\n",
    "            graph_json[\"edges\"].append(e_dict)\n",
    "\n",
    "    #print(graph_json)\n",
    "    return graph_json\n",
    "\n",
    "#basic_graph_edge_list_to_cytoscape_graph (output_graph)"
   ]
  },
  {
   "cell_type": "code",
   "execution_count": 38,
   "id": "fab7ef63-cefc-44b1-94b4-994466a6a52b",
   "metadata": {},
   "outputs": [],
   "source": [
    "node_info_widget = widgets.Textarea(value=\"\", placeholder=\"Information\", disabled=True, \n",
    "                                   layout=widgets.Layout(width='50%', height='200px', align_content='center'))"
   ]
  },
  {
   "cell_type": "code",
   "execution_count": 39,
   "id": "63131cb1-e75e-408a-9ab9-8e4da44dcae6",
   "metadata": {},
   "outputs": [],
   "source": [
    "cytoscape_graph_json = basic_graph_to_cytoscape_graph (output_graph)\n",
    "cytoscape_object = ipycytoscape.CytoscapeWidget()\n",
    "cytoscape_object.graph.add_graph_from_json(cytoscape_graph_json)\n",
    "\n",
    "#cytoscape_object.set_layout(name='grid') # broken\n",
    "cytoscape_object.set_layout(name=\"cola\")\n",
    "#cytoscape_object.set_layout(name=\"klay\")\n",
    "#cytoscapeobj.set_layout(nodeSpacing=100)\n",
    "#cytoscapeobj.get_layout()\n",
    "\n",
    "#cytoscape_object.set_tooltip_source(\"label\")\n",
    "cytoscape_object.set_tooltip_source(\"description\")"
   ]
  },
  {
   "cell_type": "code",
   "execution_count": 40,
   "id": "b9601c39-f466-48b2-b404-fa465ab16854",
   "metadata": {},
   "outputs": [],
   "source": [
    "def cytoscape_graph_set_style () :\n",
    "    cytoscape_object.set_style([\n",
    "    {\n",
    "      \"selector\": \"edge.highlighted\",\n",
    "      \"css\": {\n",
    "        \"line-color\": \"red\"\n",
    "      }\n",
    "    },\n",
    "    {\n",
    "      \"selector\": \"node.highlighted\",\n",
    "      \"css\": {\n",
    "        \"background-color\": \"yellow\",\n",
    "        \"border-color\": \"black\",\n",
    "        \"border-width\": \"5px\",\n",
    "        \"border-opacity\": \"0.3\",  \n",
    "      },\n",
    "    },\n",
    "    {\n",
    "      \"selector\": \"node.Anatomy\",\n",
    "      \"css\": {\n",
    "        \"background-color\": \"rgb(179, 222, 105)\"\n",
    "      },\n",
    "    },    \n",
    "    {\n",
    "      \"selector\": \"node.BiologicalProcess\",\n",
    "      \"css\": {\n",
    "        \"background-color\": \"rgb(253, 180, 98)\"\n",
    "      },\n",
    "    },\n",
    "    {\n",
    "      \"selector\": \"node.CellularComponent\",\n",
    "      \"css\": {\n",
    "        \"background-color\": \"rgb(255, 255, 179)\"\n",
    "      },\n",
    "    },        \n",
    "    {\n",
    "      \"selector\": \"node.Compound\",\n",
    "      \"css\": {\n",
    "        \"background-color\": \"rgb(188, 128, 189)\"\n",
    "      },\n",
    "    },\n",
    "    {\n",
    "      \"selector\": \"node.Disease\",\n",
    "      \"css\": {\n",
    "        \"background-color\": \"rgb(251, 128, 114)\"\n",
    "      },\n",
    "    },       \n",
    "    {\n",
    "      \"selector\": \"node.EC\",\n",
    "      \"css\": {\n",
    "        \"background-color\": \"rgb(247, 151, 103)\"\n",
    "      },\n",
    "    },  \n",
    "    {\n",
    "      \"selector\": \"node.Food\",\n",
    "      \"css\": {\n",
    "        \"background-color\": \"rgb(199, 183, 143)\"\n",
    "      },\n",
    "    },      \n",
    "    {\n",
    "      \"selector\": \"node.Gene\",\n",
    "      \"css\": {\n",
    "        \"background-color\": \"rgb(128, 177, 211)\"\n",
    "      },\n",
    "    },\n",
    "    {\n",
    "      \"selector\": \"node.MolecularFunction\",\n",
    "      \"css\": {\n",
    "        \"background-color\": \"rgb(255, 237, 111)\"\n",
    "      },\n",
    "    },    \n",
    "    {\n",
    "      \"selector\": \"node.Organism\",\n",
    "      \"css\": {\n",
    "        \"background-color\": \"rgb(217, 200, 174)\"\n",
    "      },\n",
    "    },    \n",
    "    {\n",
    "      \"selector\": \"node.Pathway\",\n",
    "      \"css\": {\n",
    "        \"background-color\": \"rgb(87, 199, 227)\"\n",
    "      },\n",
    "    },\n",
    "    {\n",
    "      \"selector\": \"node.PharmacologicClass\",\n",
    "      \"css\": {\n",
    "        \"background-color\": \"rgb(190, 186, 218)\"\n",
    "      },\n",
    "    }, \n",
    "    {\n",
    "      \"selector\": \"node.Protein\",\n",
    "      \"css\": {\n",
    "        \"background-color\": \"rgb(141, 211, 199)\"\n",
    "      },\n",
    "    },     \n",
    "    {\n",
    "      \"selector\": \"node.Reaction\",\n",
    "      \"css\": {\n",
    "        \"background-color\": \"rgb(241, 102, 103)\"\n",
    "      },\n",
    "    },\n",
    "    {\n",
    "      \"selector\": \"node.SideEffect\",\n",
    "      \"css\": {\n",
    "        \"background-color\": \"rgb(204, 235, 197)\"\n",
    "      },\n",
    "    },\n",
    "    {\n",
    "      \"selector\": \"node.Symptom\",\n",
    "      \"css\": {\n",
    "        \"background-color\": \"rgb(252, 205, 229)\"\n",
    "      },\n",
    "    },\n",
    "    {\n",
    "      \"selector\": \"node.CellType\",\n",
    "      \"css\": {\n",
    "        \"background-color\": \"green\"\n",
    "      },\n",
    "    },\n",
    "    {\n",
    "      \"selector\": \"node.Nutrient\",\n",
    "      \"css\": {\n",
    "        \"background-color\": \"cyan\"\n",
    "      },\n",
    "    },\n",
    "    {\n",
    "      \"selector\": \"node.MolecularFunction\",\n",
    "      \"css\": {\n",
    "        \"background-color\": \"darkcyan\"\n",
    "      },\n",
    "    },    \n",
    "    {\n",
    "      \"selector\": \"node.SARSCov2\",\n",
    "      \"css\": {\n",
    "        \"background-color\": \"crimson\"\n",
    "      },\n",
    "    },\n",
    "    {\n",
    "      \"selector\": \"node.DatabaseTimestamp\",\n",
    "      \"css\": {\n",
    "        \"background-color\": \"darkgrey\"\n",
    "      },\n",
    "    },\n",
    "    {\n",
    "      \"selector\": \"node.Version\",\n",
    "      \"css\": {\n",
    "        \"background-color\": \"darkgrey\"\n",
    "      },\n",
    "    },    \n",
    "    {\"selector\": \"node\", \"style\": {\"content\": \"data(label)\", \"text-valign\": \"center\", \"text-halign\": \"center\", \"font-size\": \"8px\"}}, \n",
    "        {\"selector\": \"node[classes]\", \"style\": {\"label\": \"data(label)\"}}])\n",
    "    \n",
    "#\"background-color\": \"grey\", \"content\" ...    "
   ]
  },
  {
   "cell_type": "code",
   "execution_count": 41,
   "id": "ec315e31-6912-4bfe-8a81-3033eace9892",
   "metadata": {},
   "outputs": [],
   "source": [
    "def set_node_color_by_type (target_node, node_type) :\n",
    "#def highlight_node (target_node) :           \n",
    "    for node in cytoscape_object.graph.nodes:\n",
    "        if int(node.data[\"id\"]) == int(target_node[\"data\"][\"id\"]) :\n",
    "            classes = set(node.classes.split(\" \"))    \n",
    "            classes.add(node_type)\n",
    "            node.classes = \" \".join(classes)\n",
    "            break\n",
    "\n",
    "def set_node_color() :\n",
    "    for node in cytoscape_object.graph.nodes :        \n",
    "        #print(node.data[\"id\"])\n",
    "        #print(node.data[\"type\"])\n",
    "        set_node_color_by_type ({\"data\" : {\"id\": node.data[\"id\"]}}, node.data[\"type\"])\n",
    "    #set_node_color_by_type ({\"data\" : {\"id\": \"2276338\"}}, \"compound\")\n",
    "    #set_node_color_by_type ({\"data\" : {\"id\": \"2293366\"}}, \"reaction\")\n"
   ]
  },
  {
   "cell_type": "code",
   "execution_count": 42,
   "id": "fa2e4547-22fc-4062-9d89-b604a2e61186",
   "metadata": {},
   "outputs": [],
   "source": [
    "def unhighlight_nodes () :\n",
    "    for node in cytoscape_object.graph.nodes:\n",
    "        classes = set(node.classes.split(\" \"))\n",
    "        if \"highlighted\" in classes :\n",
    "            classes.remove(\"highlighted\")\n",
    "            node.classes = \" \".join(classes)            \n",
    "\n",
    "def unhighlight_edges () :\n",
    "    for edge in cytoscape_object.graph.edges:\n",
    "        classes = set(edge.classes.split(\" \"))\n",
    "        if \"highlighted\" in classes :\n",
    "            classes.remove(\"highlighted\")\n",
    "            edge.classes = \" \".join(classes)                \n",
    "\n",
    "def highlight_node (target_node) :           \n",
    "    for node in cytoscape_object.graph.nodes:\n",
    "        if int(node.data[\"id\"]) == int(target_node[\"data\"][\"id\"]) :\n",
    "            classes = set(node.classes.split(\" \"))    \n",
    "            classes.add(\"highlighted\")\n",
    "            node.classes = \" \".join(classes)\n",
    "            break\n",
    "            \n",
    "def highlight_edges (edge_filter) :\n",
    "    for edge in cytoscape_object.graph.edges:\n",
    "        #print(edge.data)\n",
    "        #print(edge_filter)\n",
    "    \n",
    "        s = int(edge.data[\"source\"]) \n",
    "        t = int(edge.data[\"target\"])             \n",
    "    \n",
    "        if (s, t) in edge_filter :\n",
    "            classes = set(edge.classes.split(\" \"))\n",
    "            classes.add(\"highlighted\")\n",
    "            #classes.remove(\"highlighted\")            \n",
    "            edge.classes = \" \".join(classes)\n",
    "            continue\n",
    "        \n",
    "        #classes = set(edge.classes.split(\" \"))\n",
    "        #classes.add(\"highlighted\")\n",
    "        #edge.classes = \" \".join(classes)\n",
    "    \n",
    "        #print(edge)    "
   ]
  },
  {
   "cell_type": "code",
   "execution_count": 43,
   "id": "bb7d5335-accb-4d8b-aef0-26c4b6eed06a",
   "metadata": {},
   "outputs": [],
   "source": [
    "def update_node_info_widget(node) :\n",
    "    #node_info_widget.value = node[\"data\"][\"label\"] \n",
    "    vertex = int(node[\"data\"][\"id\"])\n",
    "    #vertex_data = dict(sorted(vertex_data_map[vertex].items()))\n",
    "    if str(vertex_data_map[vertex][3]) != \"\" :\n",
    "        vertex_data = vertex_data_map[vertex][3]\n",
    "    else :\n",
    "        vertex_data = vertex_data_map[vertex]\n",
    "    node_info_widget.value = str(vertex_data)\n",
    "    #output_string = \"\"\n",
    "    #for k, v in vertex_data.items() :\n",
    "    #    output_string = output_string + str(k) + \" : \" + str(v) + \"\\n\"\n",
    "    #node_info_widget.value = output_string"
   ]
  },
  {
   "cell_type": "code",
   "execution_count": 44,
   "id": "8271264b-948e-4bbc-a454-d09fc31ad72e",
   "metadata": {},
   "outputs": [],
   "source": [
    "selected_vertex = [0] # must be a container or a class object \n",
    "\n",
    "def node_callback_click(node) :\n",
    "    selected_vertex[0] = int(node[\"data\"][\"id\"])         \n",
    "    update_node_info_widget(node)\n",
    "\n",
    "cytoscape_object.on('node', 'click', node_callback_click)"
   ]
  },
  {
   "cell_type": "code",
   "execution_count": 45,
   "id": "8a4826e2-7528-452f-94ac-d707936248a2",
   "metadata": {},
   "outputs": [
    {
     "data": {
      "application/vnd.jupyter.widget-view+json": {
       "model_id": "d8aaea91a6f44adfb1a6943a886f683b",
       "version_major": 2,
       "version_minor": 0
      },
      "text/plain": [
       "CytoscapeWidget(cytoscape_layout={'name': 'cola'}, cytoscape_style=[{'selector': 'edge.highlighted', 'css': {'…"
      ]
     },
     "metadata": {},
     "output_type": "display_data"
    },
    {
     "data": {
      "application/vnd.jupyter.widget-view+json": {
       "model_id": "8ebda3bdccd84fd6913fac533b91a2f8",
       "version_major": 2,
       "version_minor": 0
      },
      "text/plain": [
       "Textarea(value='', disabled=True, layout=Layout(align_content='center', height='200px', width='50%'), placehol…"
      ]
     },
     "metadata": {},
     "output_type": "display_data"
    }
   ],
   "source": [
    "#highlight_node({\"data\" : {\"id\": s_t_vertices[0]}})\n",
    "#highlight_node({\"data\" : {\"id\": s_t_vertices[1]}})\n",
    "set_node_color()\n",
    "for i in range(len(s_t_vertices)) :\n",
    "    highlight_node({\"data\" : {\"id\": s_t_vertices[i]}})\n",
    "cytoscape_graph_set_style()\n",
    "display(cytoscape_object)\n",
    "display(node_info_widget)"
   ]
  },
  {
   "cell_type": "code",
   "execution_count": null,
   "id": "3591c590-97e8-4252-9f6c-fd87da74785e",
   "metadata": {},
   "outputs": [],
   "source": []
  }
 ],
 "metadata": {
  "kernelspec": {
   "display_name": "Python 3",
   "language": "python",
   "name": "python3"
  },
  "language_info": {
   "codemirror_mode": {
    "name": "ipython",
    "version": 3
   },
   "file_extension": ".py",
   "mimetype": "text/x-python",
   "name": "python",
   "nbconvert_exporter": "python",
   "pygments_lexer": "ipython3",
   "version": "3.9.5"
  }
 },
 "nbformat": 4,
 "nbformat_minor": 5
}
